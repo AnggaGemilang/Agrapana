{
 "cells": [
  {
   "cell_type": "code",
   "execution_count": 43,
   "id": "1be80987-4b86-4213-806c-013362a69879",
   "metadata": {},
   "outputs": [],
   "source": [
    "import numpy as np\n",
    "import pandas as pd\n",
    "import matplotlib.pyplot as plt\n",
    "import sklearn\n",
    "from microlearn.offloader import Offload\n",
    "from sklearn.discriminant_analysis import QuadraticDiscriminantAnalysis"
   ]
  },
  {
   "cell_type": "code",
   "execution_count": 44,
   "id": "0bbf0a7c-d4b1-45fb-b779-2375fa2d28d4",
   "metadata": {},
   "outputs": [
    {
     "data": {
      "text/html": [
       "<div>\n",
       "<style scoped>\n",
       "    .dataframe tbody tr th:only-of-type {\n",
       "        vertical-align: middle;\n",
       "    }\n",
       "\n",
       "    .dataframe tbody tr th {\n",
       "        vertical-align: top;\n",
       "    }\n",
       "\n",
       "    .dataframe thead th {\n",
       "        text-align: right;\n",
       "    }\n",
       "</style>\n",
       "<table border=\"1\" class=\"dataframe\">\n",
       "  <thead>\n",
       "    <tr style=\"text-align: right;\">\n",
       "      <th></th>\n",
       "      <th>Suhu</th>\n",
       "      <th>Kelembaban</th>\n",
       "      <th>Curah Hujan</th>\n",
       "      <th>Hasil Prediksi</th>\n",
       "    </tr>\n",
       "  </thead>\n",
       "  <tbody>\n",
       "    <tr>\n",
       "      <th>0</th>\n",
       "      <td>24.5</td>\n",
       "      <td>80</td>\n",
       "      <td>0.0</td>\n",
       "      <td>ulat_daun=rendah,ulat_krop=rendah,busuk_hitam=...</td>\n",
       "    </tr>\n",
       "    <tr>\n",
       "      <th>1</th>\n",
       "      <td>24.8</td>\n",
       "      <td>84</td>\n",
       "      <td>45.5</td>\n",
       "      <td>ulat_daun=tinggi,ulat_krop=tinggi,busuk_hitam=...</td>\n",
       "    </tr>\n",
       "    <tr>\n",
       "      <th>2</th>\n",
       "      <td>24.8</td>\n",
       "      <td>83</td>\n",
       "      <td>9.8</td>\n",
       "      <td>ulat_daun=tinggi,ulat_krop=tinggi,busuk_hitam=...</td>\n",
       "    </tr>\n",
       "    <tr>\n",
       "      <th>3</th>\n",
       "      <td>24.3</td>\n",
       "      <td>81</td>\n",
       "      <td>0.6</td>\n",
       "      <td>ulat_daun=rendah,ulat_krop=rendah,busuk_hitam=...</td>\n",
       "    </tr>\n",
       "    <tr>\n",
       "      <th>4</th>\n",
       "      <td>24.1</td>\n",
       "      <td>86</td>\n",
       "      <td>23.0</td>\n",
       "      <td>ulat_daun=tinggi,ulat_krop=tinggi,busuk_hitam=...</td>\n",
       "    </tr>\n",
       "    <tr>\n",
       "      <th>5</th>\n",
       "      <td>23.9</td>\n",
       "      <td>85</td>\n",
       "      <td>2.7</td>\n",
       "      <td>ulat_daun=rendah,ulat_krop=rendah,busuk_hitam=...</td>\n",
       "    </tr>\n",
       "    <tr>\n",
       "      <th>6</th>\n",
       "      <td>23.2</td>\n",
       "      <td>86</td>\n",
       "      <td>12.2</td>\n",
       "      <td>ulat_daun=tinggi,ulat_krop=tinggi,busuk_hitam=...</td>\n",
       "    </tr>\n",
       "    <tr>\n",
       "      <th>7</th>\n",
       "      <td>23.5</td>\n",
       "      <td>84</td>\n",
       "      <td>5.2</td>\n",
       "      <td>ulat_daun=tinggi,ulat_krop=tinggi,busuk_hitam=...</td>\n",
       "    </tr>\n",
       "    <tr>\n",
       "      <th>8</th>\n",
       "      <td>23.5</td>\n",
       "      <td>85</td>\n",
       "      <td>0.8</td>\n",
       "      <td>ulat_daun=rendah,ulat_krop=rendah,busuk_hitam=...</td>\n",
       "    </tr>\n",
       "    <tr>\n",
       "      <th>9</th>\n",
       "      <td>22.8</td>\n",
       "      <td>91</td>\n",
       "      <td>27.2</td>\n",
       "      <td>ulat_daun=tinggi,ulat_krop=tinggi,busuk_hitam=...</td>\n",
       "    </tr>\n",
       "    <tr>\n",
       "      <th>10</th>\n",
       "      <td>22.9</td>\n",
       "      <td>86</td>\n",
       "      <td>8.0</td>\n",
       "      <td>ulat_daun=tinggi,ulat_krop=tinggi,busuk_hitam=...</td>\n",
       "    </tr>\n",
       "    <tr>\n",
       "      <th>11</th>\n",
       "      <td>24.3</td>\n",
       "      <td>80</td>\n",
       "      <td>4.2</td>\n",
       "      <td>ulat_daun=rendah,ulat_krop=rendah,busuk_hitam=...</td>\n",
       "    </tr>\n",
       "    <tr>\n",
       "      <th>12</th>\n",
       "      <td>24.3</td>\n",
       "      <td>81</td>\n",
       "      <td>3.7</td>\n",
       "      <td>ulat_daun=rendah,ulat_krop=rendah,busuk_hitam=...</td>\n",
       "    </tr>\n",
       "    <tr>\n",
       "      <th>13</th>\n",
       "      <td>25.2</td>\n",
       "      <td>77</td>\n",
       "      <td>0.0</td>\n",
       "      <td>ulat_daun=rendah,ulat_krop=rendah,busuk_hitam=...</td>\n",
       "    </tr>\n",
       "  </tbody>\n",
       "</table>\n",
       "</div>"
      ],
      "text/plain": [
       "    Suhu  Kelembaban  Curah Hujan  \\\n",
       "0   24.5          80          0.0   \n",
       "1   24.8          84         45.5   \n",
       "2   24.8          83          9.8   \n",
       "3   24.3          81          0.6   \n",
       "4   24.1          86         23.0   \n",
       "5   23.9          85          2.7   \n",
       "6   23.2          86         12.2   \n",
       "7   23.5          84          5.2   \n",
       "8   23.5          85          0.8   \n",
       "9   22.8          91         27.2   \n",
       "10  22.9          86          8.0   \n",
       "11  24.3          80          4.2   \n",
       "12  24.3          81          3.7   \n",
       "13  25.2          77          0.0   \n",
       "\n",
       "                                       Hasil Prediksi  \n",
       "0   ulat_daun=rendah,ulat_krop=rendah,busuk_hitam=...  \n",
       "1   ulat_daun=tinggi,ulat_krop=tinggi,busuk_hitam=...  \n",
       "2   ulat_daun=tinggi,ulat_krop=tinggi,busuk_hitam=...  \n",
       "3   ulat_daun=rendah,ulat_krop=rendah,busuk_hitam=...  \n",
       "4   ulat_daun=tinggi,ulat_krop=tinggi,busuk_hitam=...  \n",
       "5   ulat_daun=rendah,ulat_krop=rendah,busuk_hitam=...  \n",
       "6   ulat_daun=tinggi,ulat_krop=tinggi,busuk_hitam=...  \n",
       "7   ulat_daun=tinggi,ulat_krop=tinggi,busuk_hitam=...  \n",
       "8   ulat_daun=rendah,ulat_krop=rendah,busuk_hitam=...  \n",
       "9   ulat_daun=tinggi,ulat_krop=tinggi,busuk_hitam=...  \n",
       "10  ulat_daun=tinggi,ulat_krop=tinggi,busuk_hitam=...  \n",
       "11  ulat_daun=rendah,ulat_krop=rendah,busuk_hitam=...  \n",
       "12  ulat_daun=rendah,ulat_krop=rendah,busuk_hitam=...  \n",
       "13  ulat_daun=rendah,ulat_krop=rendah,busuk_hitam=...  "
      ]
     },
     "execution_count": 44,
     "metadata": {},
     "output_type": "execute_result"
    }
   ],
   "source": [
    "dataset = pd.read_csv('dataset2.csv', sep=',',header=0)\n",
    "dataset"
   ]
  },
  {
   "cell_type": "code",
   "execution_count": 45,
   "id": "4b2ec066-c291-4077-a4a6-853cb891f98a",
   "metadata": {},
   "outputs": [],
   "source": [
    "dataset.columns = dataset.columns.to_series().apply(lambda x: x.strip())"
   ]
  },
  {
   "cell_type": "code",
   "execution_count": 46,
   "id": "4e0ff433-37c5-40ab-a429-4da2abddbfb3",
   "metadata": {},
   "outputs": [],
   "source": [
    "X = dataset.loc[:, ['Suhu','Kelembaban', 'Curah Hujan']].to_numpy()\n",
    "Y = dataset.loc[:, ['Hasil Prediksi']].to_numpy()\n",
    "Y = Y.flatten()"
   ]
  },
  {
   "cell_type": "code",
   "execution_count": 47,
   "id": "500e93be-712e-4d37-ad71-6ae4a21fbb08",
   "metadata": {},
   "outputs": [
    {
     "name": "stdout",
     "output_type": "stream",
     "text": [
      "[[24.5 80.   0. ]\n",
      " [24.8 84.  45.5]\n",
      " [24.8 83.   9.8]\n",
      " [24.3 81.   0.6]\n",
      " [24.1 86.  23. ]\n",
      " [23.9 85.   2.7]\n",
      " [23.2 86.  12.2]\n",
      " [23.5 84.   5.2]\n",
      " [23.5 85.   0.8]\n",
      " [22.8 91.  27.2]\n",
      " [22.9 86.   8. ]\n",
      " [24.3 80.   4.2]\n",
      " [24.3 81.   3.7]\n",
      " [25.2 77.   0. ]]\n"
     ]
    }
   ],
   "source": [
    "print(X)"
   ]
  },
  {
   "cell_type": "code",
   "execution_count": 48,
   "id": "6d2d0152-9fa8-482c-bb53-60d3d08d3dae",
   "metadata": {},
   "outputs": [],
   "source": [
    "from sklearn.preprocessing import LabelEncoder"
   ]
  },
  {
   "cell_type": "code",
   "execution_count": 49,
   "id": "2b1c3ff2-d202-460d-9810-569f03ab780c",
   "metadata": {},
   "outputs": [
    {
     "name": "stdout",
     "output_type": "stream",
     "text": [
      "[[24.5  1.   0. ]\n",
      " [24.8  4.  45.5]\n",
      " [24.8  3.   9.8]\n",
      " [24.3  2.   0.6]\n",
      " [24.1  6.  23. ]\n",
      " [23.9  5.   2.7]\n",
      " [23.2  6.  12.2]\n",
      " [23.5  4.   5.2]\n",
      " [23.5  5.   0.8]\n",
      " [22.8  7.  27.2]\n",
      " [22.9  6.   8. ]\n",
      " [24.3  1.   4.2]\n",
      " [24.3  2.   3.7]\n",
      " [25.2  0.   0. ]]\n"
     ]
    }
   ],
   "source": [
    "le = LabelEncoder()\n",
    "X[:, 1] = le.fit_transform(X[:, 1])\n",
    "print(X)"
   ]
  },
  {
   "cell_type": "code",
   "execution_count": 50,
   "id": "c2a4459f-23c5-4fb9-8345-7d62df77f5ab",
   "metadata": {},
   "outputs": [],
   "source": [
    "from sklearn.model_selection import train_test_split"
   ]
  },
  {
   "cell_type": "code",
   "execution_count": 51,
   "id": "c5ec3549-edb1-4175-8dfb-ab86f87498f0",
   "metadata": {},
   "outputs": [],
   "source": [
    "X_train, X_test, y_train, y_test = train_test_split(X, Y, test_size = 0.2, random_state = 0)"
   ]
  },
  {
   "cell_type": "code",
   "execution_count": 52,
   "id": "0474666f-6ebd-4b52-abb7-3aaca7f5207c",
   "metadata": {},
   "outputs": [
    {
     "name": "stdout",
     "output_type": "stream",
     "text": [
      "[[24.3  1.   4.2]\n",
      " [24.8  3.   9.8]\n",
      " [25.2  0.   0. ]\n",
      " [22.8  7.  27.2]\n",
      " [24.8  4.  45.5]\n",
      " [23.5  4.   5.2]\n",
      " [22.9  6.   8. ]\n",
      " [24.3  2.   0.6]\n",
      " [24.5  1.   0. ]\n",
      " [23.9  5.   2.7]\n",
      " [24.3  2.   3.7]]\n"
     ]
    }
   ],
   "source": [
    "print(X_train)"
   ]
  },
  {
   "cell_type": "code",
   "execution_count": 53,
   "id": "57ac6cc5-a1be-45b8-b4f6-d874018dc276",
   "metadata": {},
   "outputs": [],
   "source": [
    "from sklearn.preprocessing import StandardScaler"
   ]
  },
  {
   "cell_type": "code",
   "execution_count": 54,
   "id": "8486a292-a639-4b38-84f4-49280fe14b33",
   "metadata": {},
   "outputs": [],
   "source": [
    "sc = StandardScaler()"
   ]
  },
  {
   "cell_type": "code",
   "execution_count": 55,
   "id": "c145fead-15b1-4fa4-83d9-3aa11102a3c4",
   "metadata": {},
   "outputs": [],
   "source": [
    "X_train = sc.fit_transform(X_train)"
   ]
  },
  {
   "cell_type": "code",
   "execution_count": 56,
   "id": "c7374be0-97b3-447e-bbbf-30f632a77313",
   "metadata": {},
   "outputs": [],
   "source": [
    "X_test = sc.fit_transform(X_test)"
   ]
  },
  {
   "cell_type": "code",
   "execution_count": 57,
   "id": "d7d8b12c-732a-44c6-ad7c-31c9de3f8a4d",
   "metadata": {},
   "outputs": [],
   "source": [
    "from sklearn.naive_bayes import GaussianNB"
   ]
  },
  {
   "cell_type": "code",
   "execution_count": 58,
   "id": "281168a9-7ee7-47df-8515-4845dd317ead",
   "metadata": {},
   "outputs": [
    {
     "data": {
      "text/html": [
       "<style>#sk-container-id-3 {color: black;background-color: white;}#sk-container-id-3 pre{padding: 0;}#sk-container-id-3 div.sk-toggleable {background-color: white;}#sk-container-id-3 label.sk-toggleable__label {cursor: pointer;display: block;width: 100%;margin-bottom: 0;padding: 0.3em;box-sizing: border-box;text-align: center;}#sk-container-id-3 label.sk-toggleable__label-arrow:before {content: \"▸\";float: left;margin-right: 0.25em;color: #696969;}#sk-container-id-3 label.sk-toggleable__label-arrow:hover:before {color: black;}#sk-container-id-3 div.sk-estimator:hover label.sk-toggleable__label-arrow:before {color: black;}#sk-container-id-3 div.sk-toggleable__content {max-height: 0;max-width: 0;overflow: hidden;text-align: left;background-color: #f0f8ff;}#sk-container-id-3 div.sk-toggleable__content pre {margin: 0.2em;color: black;border-radius: 0.25em;background-color: #f0f8ff;}#sk-container-id-3 input.sk-toggleable__control:checked~div.sk-toggleable__content {max-height: 200px;max-width: 100%;overflow: auto;}#sk-container-id-3 input.sk-toggleable__control:checked~label.sk-toggleable__label-arrow:before {content: \"▾\";}#sk-container-id-3 div.sk-estimator input.sk-toggleable__control:checked~label.sk-toggleable__label {background-color: #d4ebff;}#sk-container-id-3 div.sk-label input.sk-toggleable__control:checked~label.sk-toggleable__label {background-color: #d4ebff;}#sk-container-id-3 input.sk-hidden--visually {border: 0;clip: rect(1px 1px 1px 1px);clip: rect(1px, 1px, 1px, 1px);height: 1px;margin: -1px;overflow: hidden;padding: 0;position: absolute;width: 1px;}#sk-container-id-3 div.sk-estimator {font-family: monospace;background-color: #f0f8ff;border: 1px dotted black;border-radius: 0.25em;box-sizing: border-box;margin-bottom: 0.5em;}#sk-container-id-3 div.sk-estimator:hover {background-color: #d4ebff;}#sk-container-id-3 div.sk-parallel-item::after {content: \"\";width: 100%;border-bottom: 1px solid gray;flex-grow: 1;}#sk-container-id-3 div.sk-label:hover label.sk-toggleable__label {background-color: #d4ebff;}#sk-container-id-3 div.sk-serial::before {content: \"\";position: absolute;border-left: 1px solid gray;box-sizing: border-box;top: 0;bottom: 0;left: 50%;z-index: 0;}#sk-container-id-3 div.sk-serial {display: flex;flex-direction: column;align-items: center;background-color: white;padding-right: 0.2em;padding-left: 0.2em;position: relative;}#sk-container-id-3 div.sk-item {position: relative;z-index: 1;}#sk-container-id-3 div.sk-parallel {display: flex;align-items: stretch;justify-content: center;background-color: white;position: relative;}#sk-container-id-3 div.sk-item::before, #sk-container-id-3 div.sk-parallel-item::before {content: \"\";position: absolute;border-left: 1px solid gray;box-sizing: border-box;top: 0;bottom: 0;left: 50%;z-index: -1;}#sk-container-id-3 div.sk-parallel-item {display: flex;flex-direction: column;z-index: 1;position: relative;background-color: white;}#sk-container-id-3 div.sk-parallel-item:first-child::after {align-self: flex-end;width: 50%;}#sk-container-id-3 div.sk-parallel-item:last-child::after {align-self: flex-start;width: 50%;}#sk-container-id-3 div.sk-parallel-item:only-child::after {width: 0;}#sk-container-id-3 div.sk-dashed-wrapped {border: 1px dashed gray;margin: 0 0.4em 0.5em 0.4em;box-sizing: border-box;padding-bottom: 0.4em;background-color: white;}#sk-container-id-3 div.sk-label label {font-family: monospace;font-weight: bold;display: inline-block;line-height: 1.2em;}#sk-container-id-3 div.sk-label-container {text-align: center;}#sk-container-id-3 div.sk-container {/* jupyter's `normalize.less` sets `[hidden] { display: none; }` but bootstrap.min.css set `[hidden] { display: none !important; }` so we also need the `!important` here to be able to override the default hidden behavior on the sphinx rendered scikit-learn.org. See: https://github.com/scikit-learn/scikit-learn/issues/21755 */display: inline-block !important;position: relative;}#sk-container-id-3 div.sk-text-repr-fallback {display: none;}</style><div id=\"sk-container-id-3\" class=\"sk-top-container\"><div class=\"sk-text-repr-fallback\"><pre>GaussianNB()</pre><b>In a Jupyter environment, please rerun this cell to show the HTML representation or trust the notebook. <br />On GitHub, the HTML representation is unable to render, please try loading this page with nbviewer.org.</b></div><div class=\"sk-container\" hidden><div class=\"sk-item\"><div class=\"sk-estimator sk-toggleable\"><input class=\"sk-toggleable__control sk-hidden--visually\" id=\"sk-estimator-id-3\" type=\"checkbox\" checked><label for=\"sk-estimator-id-3\" class=\"sk-toggleable__label sk-toggleable__label-arrow\">GaussianNB</label><div class=\"sk-toggleable__content\"><pre>GaussianNB()</pre></div></div></div></div></div>"
      ],
      "text/plain": [
       "GaussianNB()"
      ]
     },
     "execution_count": 58,
     "metadata": {},
     "output_type": "execute_result"
    }
   ],
   "source": [
    "classifier = GaussianNB()\n",
    "classifier.fit(X_train, y_train)"
   ]
  },
  {
   "cell_type": "code",
   "execution_count": 60,
   "id": "5da3ef0f-1567-4794-ad38-4d00d5320700",
   "metadata": {},
   "outputs": [],
   "source": [
    "off = Offload(classifier)\n",
    "off.export_to_arduino('D:\\qda_offload6.ino')"
   ]
  },
  {
   "cell_type": "code",
   "execution_count": null,
   "id": "48f4a5aa-80d7-4298-af82-832347d4bf00",
   "metadata": {},
   "outputs": [],
   "source": []
  }
 ],
 "metadata": {
  "kernelspec": {
   "display_name": "Python 3 (ipykernel)",
   "language": "python",
   "name": "python3"
  },
  "language_info": {
   "codemirror_mode": {
    "name": "ipython",
    "version": 3
   },
   "file_extension": ".py",
   "mimetype": "text/x-python",
   "name": "python",
   "nbconvert_exporter": "python",
   "pygments_lexer": "ipython3",
   "version": "3.8.5"
  }
 },
 "nbformat": 4,
 "nbformat_minor": 5
}
