{
 "cells": [
  {
   "cell_type": "code",
   "execution_count": 2,
   "id": "1be80987-4b86-4213-806c-013362a69879",
   "metadata": {},
   "outputs": [],
   "source": [
    "import numpy as np\n",
    "import pandas as pd\n",
    "import sklearn\n",
    "# from microlearn.offloader import Offload\n",
    "from sklearn.discriminant_analysis import QuadraticDiscriminantAnalysis\n",
    "import matplotlib.pyplot as plt\n",
    "import seaborn as sns"
   ]
  },
  {
   "cell_type": "markdown",
   "id": "4c222d18",
   "metadata": {},
   "source": [
    "Read dataset"
   ]
  },
  {
   "cell_type": "code",
   "execution_count": 3,
   "id": "0bbf0a7c-d4b1-45fb-b779-2375fa2d28d4",
   "metadata": {},
   "outputs": [
    {
     "data": {
      "text/html": [
       "<div>\n",
       "<style scoped>\n",
       "    .dataframe tbody tr th:only-of-type {\n",
       "        vertical-align: middle;\n",
       "    }\n",
       "\n",
       "    .dataframe tbody tr th {\n",
       "        vertical-align: top;\n",
       "    }\n",
       "\n",
       "    .dataframe thead th {\n",
       "        text-align: right;\n",
       "    }\n",
       "</style>\n",
       "<table border=\"1\" class=\"dataframe\">\n",
       "  <thead>\n",
       "    <tr style=\"text-align: right;\">\n",
       "      <th></th>\n",
       "      <th>Suhu</th>\n",
       "      <th>Kelembaban</th>\n",
       "      <th>Curah Hujan</th>\n",
       "      <th>Hasil Prediksi</th>\n",
       "    </tr>\n",
       "  </thead>\n",
       "  <tbody>\n",
       "    <tr>\n",
       "      <th>0</th>\n",
       "      <td>24.5</td>\n",
       "      <td>80</td>\n",
       "      <td>0.0</td>\n",
       "      <td>ulat_daun=rendah,ulat_krop=rendah,busuk_hitam=...</td>\n",
       "    </tr>\n",
       "    <tr>\n",
       "      <th>1</th>\n",
       "      <td>24.8</td>\n",
       "      <td>84</td>\n",
       "      <td>45.5</td>\n",
       "      <td>ulat_daun=tinggi,ulat_krop=tinggi,busuk_hitam=...</td>\n",
       "    </tr>\n",
       "    <tr>\n",
       "      <th>2</th>\n",
       "      <td>24.8</td>\n",
       "      <td>83</td>\n",
       "      <td>9.8</td>\n",
       "      <td>ulat_daun=tinggi,ulat_krop=tinggi,busuk_hitam=...</td>\n",
       "    </tr>\n",
       "    <tr>\n",
       "      <th>3</th>\n",
       "      <td>24.3</td>\n",
       "      <td>81</td>\n",
       "      <td>0.6</td>\n",
       "      <td>ulat_daun=rendah,ulat_krop=rendah,busuk_hitam=...</td>\n",
       "    </tr>\n",
       "    <tr>\n",
       "      <th>4</th>\n",
       "      <td>24.1</td>\n",
       "      <td>86</td>\n",
       "      <td>23.0</td>\n",
       "      <td>ulat_daun=tinggi,ulat_krop=tinggi,busuk_hitam=...</td>\n",
       "    </tr>\n",
       "    <tr>\n",
       "      <th>5</th>\n",
       "      <td>23.9</td>\n",
       "      <td>85</td>\n",
       "      <td>2.7</td>\n",
       "      <td>ulat_daun=rendah,ulat_krop=rendah,busuk_hitam=...</td>\n",
       "    </tr>\n",
       "    <tr>\n",
       "      <th>6</th>\n",
       "      <td>23.2</td>\n",
       "      <td>86</td>\n",
       "      <td>12.2</td>\n",
       "      <td>ulat_daun=tinggi,ulat_krop=tinggi,busuk_hitam=...</td>\n",
       "    </tr>\n",
       "    <tr>\n",
       "      <th>7</th>\n",
       "      <td>23.5</td>\n",
       "      <td>84</td>\n",
       "      <td>5.2</td>\n",
       "      <td>ulat_daun=tinggi,ulat_krop=tinggi,busuk_hitam=...</td>\n",
       "    </tr>\n",
       "    <tr>\n",
       "      <th>8</th>\n",
       "      <td>23.5</td>\n",
       "      <td>85</td>\n",
       "      <td>0.8</td>\n",
       "      <td>ulat_daun=rendah,ulat_krop=rendah,busuk_hitam=...</td>\n",
       "    </tr>\n",
       "    <tr>\n",
       "      <th>9</th>\n",
       "      <td>22.8</td>\n",
       "      <td>91</td>\n",
       "      <td>27.2</td>\n",
       "      <td>ulat_daun=tinggi,ulat_krop=tinggi,busuk_hitam=...</td>\n",
       "    </tr>\n",
       "    <tr>\n",
       "      <th>10</th>\n",
       "      <td>22.9</td>\n",
       "      <td>86</td>\n",
       "      <td>8.0</td>\n",
       "      <td>ulat_daun=tinggi,ulat_krop=tinggi,busuk_hitam=...</td>\n",
       "    </tr>\n",
       "    <tr>\n",
       "      <th>11</th>\n",
       "      <td>24.3</td>\n",
       "      <td>80</td>\n",
       "      <td>4.2</td>\n",
       "      <td>ulat_daun=rendah,ulat_krop=rendah,busuk_hitam=...</td>\n",
       "    </tr>\n",
       "    <tr>\n",
       "      <th>12</th>\n",
       "      <td>24.3</td>\n",
       "      <td>81</td>\n",
       "      <td>3.7</td>\n",
       "      <td>ulat_daun=rendah,ulat_krop=rendah,busuk_hitam=...</td>\n",
       "    </tr>\n",
       "    <tr>\n",
       "      <th>13</th>\n",
       "      <td>25.2</td>\n",
       "      <td>77</td>\n",
       "      <td>0.0</td>\n",
       "      <td>ulat_daun=rendah,ulat_krop=rendah,busuk_hitam=...</td>\n",
       "    </tr>\n",
       "  </tbody>\n",
       "</table>\n",
       "</div>"
      ],
      "text/plain": [
       "    Suhu  Kelembaban  Curah Hujan  \\\n",
       "0   24.5          80          0.0   \n",
       "1   24.8          84         45.5   \n",
       "2   24.8          83          9.8   \n",
       "3   24.3          81          0.6   \n",
       "4   24.1          86         23.0   \n",
       "5   23.9          85          2.7   \n",
       "6   23.2          86         12.2   \n",
       "7   23.5          84          5.2   \n",
       "8   23.5          85          0.8   \n",
       "9   22.8          91         27.2   \n",
       "10  22.9          86          8.0   \n",
       "11  24.3          80          4.2   \n",
       "12  24.3          81          3.7   \n",
       "13  25.2          77          0.0   \n",
       "\n",
       "                                       Hasil Prediksi  \n",
       "0   ulat_daun=rendah,ulat_krop=rendah,busuk_hitam=...  \n",
       "1   ulat_daun=tinggi,ulat_krop=tinggi,busuk_hitam=...  \n",
       "2   ulat_daun=tinggi,ulat_krop=tinggi,busuk_hitam=...  \n",
       "3   ulat_daun=rendah,ulat_krop=rendah,busuk_hitam=...  \n",
       "4   ulat_daun=tinggi,ulat_krop=tinggi,busuk_hitam=...  \n",
       "5   ulat_daun=rendah,ulat_krop=rendah,busuk_hitam=...  \n",
       "6   ulat_daun=tinggi,ulat_krop=tinggi,busuk_hitam=...  \n",
       "7   ulat_daun=tinggi,ulat_krop=tinggi,busuk_hitam=...  \n",
       "8   ulat_daun=rendah,ulat_krop=rendah,busuk_hitam=...  \n",
       "9   ulat_daun=tinggi,ulat_krop=tinggi,busuk_hitam=...  \n",
       "10  ulat_daun=tinggi,ulat_krop=tinggi,busuk_hitam=...  \n",
       "11  ulat_daun=rendah,ulat_krop=rendah,busuk_hitam=...  \n",
       "12  ulat_daun=rendah,ulat_krop=rendah,busuk_hitam=...  \n",
       "13  ulat_daun=rendah,ulat_krop=rendah,busuk_hitam=...  "
      ]
     },
     "execution_count": 3,
     "metadata": {},
     "output_type": "execute_result"
    }
   ],
   "source": [
    "dataset = pd.read_csv('dataset2.csv', sep=',',header=0)\n",
    "dataset"
   ]
  },
  {
   "cell_type": "markdown",
   "id": "934daed3",
   "metadata": {},
   "source": [
    "Preprocessing Data"
   ]
  },
  {
   "cell_type": "code",
   "execution_count": 4,
   "id": "eb251863",
   "metadata": {},
   "outputs": [],
   "source": [
    "ulat_daun = dataset.drop(columns=['Hasil Prediksi'])\n",
    "ulat_krop = dataset.drop(columns=['Hasil Prediksi'])\n",
    "busuk_hitam = dataset.drop(columns=['Hasil Prediksi'])"
   ]
  },
  {
   "cell_type": "code",
   "execution_count": 5,
   "id": "53f85aef",
   "metadata": {},
   "outputs": [],
   "source": [
    "ulat_daun['ulat_daun'] = dataset['Hasil Prediksi'].str.split(pat=',').str[0]\n",
    "ulat_krop['ulat_krop'] = dataset['Hasil Prediksi'].str.split(pat=',').str[1]\n",
    "busuk_hitam['busuk_hitam'] = dataset['Hasil Prediksi'].str.split(pat=',').str[2]"
   ]
  },
  {
   "cell_type": "code",
   "execution_count": 6,
   "id": "b310bb2a",
   "metadata": {},
   "outputs": [],
   "source": [
    "ulat_daun['ulat_daun'] = np.where(ulat_daun['ulat_daun'] == 'ulat_daun=rendah', 0, 1)\n",
    "ulat_krop['ulat_krop'] = np.where(ulat_krop['ulat_krop'] == 'ulat_krop=rendah', 0, 1)\n",
    "busuk_hitam['busuk_hitam'] = np.where(busuk_hitam['busuk_hitam'] == 'busuk_hitam=rendah', 0, 1)"
   ]
  },
  {
   "cell_type": "code",
   "execution_count": 6,
   "id": "72341741",
   "metadata": {},
   "outputs": [
    {
     "data": {
      "text/html": [
       "<div>\n",
       "<style scoped>\n",
       "    .dataframe tbody tr th:only-of-type {\n",
       "        vertical-align: middle;\n",
       "    }\n",
       "\n",
       "    .dataframe tbody tr th {\n",
       "        vertical-align: top;\n",
       "    }\n",
       "\n",
       "    .dataframe thead th {\n",
       "        text-align: right;\n",
       "    }\n",
       "</style>\n",
       "<table border=\"1\" class=\"dataframe\">\n",
       "  <thead>\n",
       "    <tr style=\"text-align: right;\">\n",
       "      <th></th>\n",
       "      <th>Suhu</th>\n",
       "      <th>Kelembaban</th>\n",
       "      <th>Curah Hujan</th>\n",
       "      <th>ulat_daun</th>\n",
       "    </tr>\n",
       "  </thead>\n",
       "  <tbody>\n",
       "    <tr>\n",
       "      <th>0</th>\n",
       "      <td>24.5</td>\n",
       "      <td>80</td>\n",
       "      <td>0.0</td>\n",
       "      <td>0</td>\n",
       "    </tr>\n",
       "    <tr>\n",
       "      <th>1</th>\n",
       "      <td>24.8</td>\n",
       "      <td>84</td>\n",
       "      <td>45.5</td>\n",
       "      <td>1</td>\n",
       "    </tr>\n",
       "    <tr>\n",
       "      <th>2</th>\n",
       "      <td>24.8</td>\n",
       "      <td>83</td>\n",
       "      <td>9.8</td>\n",
       "      <td>1</td>\n",
       "    </tr>\n",
       "    <tr>\n",
       "      <th>3</th>\n",
       "      <td>24.3</td>\n",
       "      <td>81</td>\n",
       "      <td>0.6</td>\n",
       "      <td>0</td>\n",
       "    </tr>\n",
       "    <tr>\n",
       "      <th>4</th>\n",
       "      <td>24.1</td>\n",
       "      <td>86</td>\n",
       "      <td>23.0</td>\n",
       "      <td>1</td>\n",
       "    </tr>\n",
       "    <tr>\n",
       "      <th>5</th>\n",
       "      <td>23.9</td>\n",
       "      <td>85</td>\n",
       "      <td>2.7</td>\n",
       "      <td>0</td>\n",
       "    </tr>\n",
       "    <tr>\n",
       "      <th>6</th>\n",
       "      <td>23.2</td>\n",
       "      <td>86</td>\n",
       "      <td>12.2</td>\n",
       "      <td>1</td>\n",
       "    </tr>\n",
       "    <tr>\n",
       "      <th>7</th>\n",
       "      <td>23.5</td>\n",
       "      <td>84</td>\n",
       "      <td>5.2</td>\n",
       "      <td>1</td>\n",
       "    </tr>\n",
       "    <tr>\n",
       "      <th>8</th>\n",
       "      <td>23.5</td>\n",
       "      <td>85</td>\n",
       "      <td>0.8</td>\n",
       "      <td>0</td>\n",
       "    </tr>\n",
       "    <tr>\n",
       "      <th>9</th>\n",
       "      <td>22.8</td>\n",
       "      <td>91</td>\n",
       "      <td>27.2</td>\n",
       "      <td>1</td>\n",
       "    </tr>\n",
       "    <tr>\n",
       "      <th>10</th>\n",
       "      <td>22.9</td>\n",
       "      <td>86</td>\n",
       "      <td>8.0</td>\n",
       "      <td>1</td>\n",
       "    </tr>\n",
       "    <tr>\n",
       "      <th>11</th>\n",
       "      <td>24.3</td>\n",
       "      <td>80</td>\n",
       "      <td>4.2</td>\n",
       "      <td>0</td>\n",
       "    </tr>\n",
       "    <tr>\n",
       "      <th>12</th>\n",
       "      <td>24.3</td>\n",
       "      <td>81</td>\n",
       "      <td>3.7</td>\n",
       "      <td>0</td>\n",
       "    </tr>\n",
       "    <tr>\n",
       "      <th>13</th>\n",
       "      <td>25.2</td>\n",
       "      <td>77</td>\n",
       "      <td>0.0</td>\n",
       "      <td>0</td>\n",
       "    </tr>\n",
       "  </tbody>\n",
       "</table>\n",
       "</div>"
      ],
      "text/plain": [
       "    Suhu  Kelembaban  Curah Hujan  ulat_daun\n",
       "0   24.5          80          0.0          0\n",
       "1   24.8          84         45.5          1\n",
       "2   24.8          83          9.8          1\n",
       "3   24.3          81          0.6          0\n",
       "4   24.1          86         23.0          1\n",
       "5   23.9          85          2.7          0\n",
       "6   23.2          86         12.2          1\n",
       "7   23.5          84          5.2          1\n",
       "8   23.5          85          0.8          0\n",
       "9   22.8          91         27.2          1\n",
       "10  22.9          86          8.0          1\n",
       "11  24.3          80          4.2          0\n",
       "12  24.3          81          3.7          0\n",
       "13  25.2          77          0.0          0"
      ]
     },
     "execution_count": 6,
     "metadata": {},
     "output_type": "execute_result"
    }
   ],
   "source": [
    "ulat_daun"
   ]
  },
  {
   "cell_type": "code",
   "execution_count": 7,
   "id": "fc32d6e2",
   "metadata": {},
   "outputs": [
    {
     "data": {
      "text/html": [
       "<div>\n",
       "<style scoped>\n",
       "    .dataframe tbody tr th:only-of-type {\n",
       "        vertical-align: middle;\n",
       "    }\n",
       "\n",
       "    .dataframe tbody tr th {\n",
       "        vertical-align: top;\n",
       "    }\n",
       "\n",
       "    .dataframe thead th {\n",
       "        text-align: right;\n",
       "    }\n",
       "</style>\n",
       "<table border=\"1\" class=\"dataframe\">\n",
       "  <thead>\n",
       "    <tr style=\"text-align: right;\">\n",
       "      <th></th>\n",
       "      <th>Suhu</th>\n",
       "      <th>Kelembaban</th>\n",
       "      <th>Curah Hujan</th>\n",
       "      <th>ulat_krop</th>\n",
       "    </tr>\n",
       "  </thead>\n",
       "  <tbody>\n",
       "    <tr>\n",
       "      <th>0</th>\n",
       "      <td>24.5</td>\n",
       "      <td>80</td>\n",
       "      <td>0.0</td>\n",
       "      <td>0</td>\n",
       "    </tr>\n",
       "    <tr>\n",
       "      <th>1</th>\n",
       "      <td>24.8</td>\n",
       "      <td>84</td>\n",
       "      <td>45.5</td>\n",
       "      <td>1</td>\n",
       "    </tr>\n",
       "    <tr>\n",
       "      <th>2</th>\n",
       "      <td>24.8</td>\n",
       "      <td>83</td>\n",
       "      <td>9.8</td>\n",
       "      <td>1</td>\n",
       "    </tr>\n",
       "    <tr>\n",
       "      <th>3</th>\n",
       "      <td>24.3</td>\n",
       "      <td>81</td>\n",
       "      <td>0.6</td>\n",
       "      <td>0</td>\n",
       "    </tr>\n",
       "    <tr>\n",
       "      <th>4</th>\n",
       "      <td>24.1</td>\n",
       "      <td>86</td>\n",
       "      <td>23.0</td>\n",
       "      <td>1</td>\n",
       "    </tr>\n",
       "    <tr>\n",
       "      <th>5</th>\n",
       "      <td>23.9</td>\n",
       "      <td>85</td>\n",
       "      <td>2.7</td>\n",
       "      <td>0</td>\n",
       "    </tr>\n",
       "    <tr>\n",
       "      <th>6</th>\n",
       "      <td>23.2</td>\n",
       "      <td>86</td>\n",
       "      <td>12.2</td>\n",
       "      <td>1</td>\n",
       "    </tr>\n",
       "    <tr>\n",
       "      <th>7</th>\n",
       "      <td>23.5</td>\n",
       "      <td>84</td>\n",
       "      <td>5.2</td>\n",
       "      <td>1</td>\n",
       "    </tr>\n",
       "    <tr>\n",
       "      <th>8</th>\n",
       "      <td>23.5</td>\n",
       "      <td>85</td>\n",
       "      <td>0.8</td>\n",
       "      <td>0</td>\n",
       "    </tr>\n",
       "    <tr>\n",
       "      <th>9</th>\n",
       "      <td>22.8</td>\n",
       "      <td>91</td>\n",
       "      <td>27.2</td>\n",
       "      <td>1</td>\n",
       "    </tr>\n",
       "    <tr>\n",
       "      <th>10</th>\n",
       "      <td>22.9</td>\n",
       "      <td>86</td>\n",
       "      <td>8.0</td>\n",
       "      <td>1</td>\n",
       "    </tr>\n",
       "    <tr>\n",
       "      <th>11</th>\n",
       "      <td>24.3</td>\n",
       "      <td>80</td>\n",
       "      <td>4.2</td>\n",
       "      <td>0</td>\n",
       "    </tr>\n",
       "    <tr>\n",
       "      <th>12</th>\n",
       "      <td>24.3</td>\n",
       "      <td>81</td>\n",
       "      <td>3.7</td>\n",
       "      <td>0</td>\n",
       "    </tr>\n",
       "    <tr>\n",
       "      <th>13</th>\n",
       "      <td>25.2</td>\n",
       "      <td>77</td>\n",
       "      <td>0.0</td>\n",
       "      <td>0</td>\n",
       "    </tr>\n",
       "  </tbody>\n",
       "</table>\n",
       "</div>"
      ],
      "text/plain": [
       "    Suhu  Kelembaban  Curah Hujan  ulat_krop\n",
       "0   24.5          80          0.0          0\n",
       "1   24.8          84         45.5          1\n",
       "2   24.8          83          9.8          1\n",
       "3   24.3          81          0.6          0\n",
       "4   24.1          86         23.0          1\n",
       "5   23.9          85          2.7          0\n",
       "6   23.2          86         12.2          1\n",
       "7   23.5          84          5.2          1\n",
       "8   23.5          85          0.8          0\n",
       "9   22.8          91         27.2          1\n",
       "10  22.9          86          8.0          1\n",
       "11  24.3          80          4.2          0\n",
       "12  24.3          81          3.7          0\n",
       "13  25.2          77          0.0          0"
      ]
     },
     "execution_count": 7,
     "metadata": {},
     "output_type": "execute_result"
    }
   ],
   "source": [
    "ulat_krop"
   ]
  },
  {
   "cell_type": "code",
   "execution_count": 8,
   "id": "2793f111",
   "metadata": {},
   "outputs": [
    {
     "data": {
      "text/html": [
       "<div>\n",
       "<style scoped>\n",
       "    .dataframe tbody tr th:only-of-type {\n",
       "        vertical-align: middle;\n",
       "    }\n",
       "\n",
       "    .dataframe tbody tr th {\n",
       "        vertical-align: top;\n",
       "    }\n",
       "\n",
       "    .dataframe thead th {\n",
       "        text-align: right;\n",
       "    }\n",
       "</style>\n",
       "<table border=\"1\" class=\"dataframe\">\n",
       "  <thead>\n",
       "    <tr style=\"text-align: right;\">\n",
       "      <th></th>\n",
       "      <th>Suhu</th>\n",
       "      <th>Kelembaban</th>\n",
       "      <th>Curah Hujan</th>\n",
       "      <th>busuk_hitam</th>\n",
       "    </tr>\n",
       "  </thead>\n",
       "  <tbody>\n",
       "    <tr>\n",
       "      <th>0</th>\n",
       "      <td>24.5</td>\n",
       "      <td>80</td>\n",
       "      <td>0.0</td>\n",
       "      <td>0</td>\n",
       "    </tr>\n",
       "    <tr>\n",
       "      <th>1</th>\n",
       "      <td>24.8</td>\n",
       "      <td>84</td>\n",
       "      <td>45.5</td>\n",
       "      <td>1</td>\n",
       "    </tr>\n",
       "    <tr>\n",
       "      <th>2</th>\n",
       "      <td>24.8</td>\n",
       "      <td>83</td>\n",
       "      <td>9.8</td>\n",
       "      <td>1</td>\n",
       "    </tr>\n",
       "    <tr>\n",
       "      <th>3</th>\n",
       "      <td>24.3</td>\n",
       "      <td>81</td>\n",
       "      <td>0.6</td>\n",
       "      <td>0</td>\n",
       "    </tr>\n",
       "    <tr>\n",
       "      <th>4</th>\n",
       "      <td>24.1</td>\n",
       "      <td>86</td>\n",
       "      <td>23.0</td>\n",
       "      <td>1</td>\n",
       "    </tr>\n",
       "    <tr>\n",
       "      <th>5</th>\n",
       "      <td>23.9</td>\n",
       "      <td>85</td>\n",
       "      <td>2.7</td>\n",
       "      <td>0</td>\n",
       "    </tr>\n",
       "    <tr>\n",
       "      <th>6</th>\n",
       "      <td>23.2</td>\n",
       "      <td>86</td>\n",
       "      <td>12.2</td>\n",
       "      <td>1</td>\n",
       "    </tr>\n",
       "    <tr>\n",
       "      <th>7</th>\n",
       "      <td>23.5</td>\n",
       "      <td>84</td>\n",
       "      <td>5.2</td>\n",
       "      <td>1</td>\n",
       "    </tr>\n",
       "    <tr>\n",
       "      <th>8</th>\n",
       "      <td>23.5</td>\n",
       "      <td>85</td>\n",
       "      <td>0.8</td>\n",
       "      <td>0</td>\n",
       "    </tr>\n",
       "    <tr>\n",
       "      <th>9</th>\n",
       "      <td>22.8</td>\n",
       "      <td>91</td>\n",
       "      <td>27.2</td>\n",
       "      <td>1</td>\n",
       "    </tr>\n",
       "    <tr>\n",
       "      <th>10</th>\n",
       "      <td>22.9</td>\n",
       "      <td>86</td>\n",
       "      <td>8.0</td>\n",
       "      <td>1</td>\n",
       "    </tr>\n",
       "    <tr>\n",
       "      <th>11</th>\n",
       "      <td>24.3</td>\n",
       "      <td>80</td>\n",
       "      <td>4.2</td>\n",
       "      <td>0</td>\n",
       "    </tr>\n",
       "    <tr>\n",
       "      <th>12</th>\n",
       "      <td>24.3</td>\n",
       "      <td>81</td>\n",
       "      <td>3.7</td>\n",
       "      <td>0</td>\n",
       "    </tr>\n",
       "    <tr>\n",
       "      <th>13</th>\n",
       "      <td>25.2</td>\n",
       "      <td>77</td>\n",
       "      <td>0.0</td>\n",
       "      <td>0</td>\n",
       "    </tr>\n",
       "  </tbody>\n",
       "</table>\n",
       "</div>"
      ],
      "text/plain": [
       "    Suhu  Kelembaban  Curah Hujan  busuk_hitam\n",
       "0   24.5          80          0.0            0\n",
       "1   24.8          84         45.5            1\n",
       "2   24.8          83          9.8            1\n",
       "3   24.3          81          0.6            0\n",
       "4   24.1          86         23.0            1\n",
       "5   23.9          85          2.7            0\n",
       "6   23.2          86         12.2            1\n",
       "7   23.5          84          5.2            1\n",
       "8   23.5          85          0.8            0\n",
       "9   22.8          91         27.2            1\n",
       "10  22.9          86          8.0            1\n",
       "11  24.3          80          4.2            0\n",
       "12  24.3          81          3.7            0\n",
       "13  25.2          77          0.0            0"
      ]
     },
     "execution_count": 8,
     "metadata": {},
     "output_type": "execute_result"
    }
   ],
   "source": [
    "busuk_hitam"
   ]
  },
  {
   "cell_type": "code",
   "execution_count": 9,
   "id": "44234bdc",
   "metadata": {},
   "outputs": [],
   "source": [
    "y_ulat_daun = ulat_daun['ulat_daun']\n",
    "y_ulat_krop = ulat_krop['ulat_krop']\n",
    "y_busuk_hitam = busuk_hitam['busuk_hitam']\n",
    "\n",
    "X_ulat_daun = ulat_daun.drop(columns=['ulat_daun'])\n",
    "X_ulat_krop = ulat_krop.drop(columns=['ulat_krop'])\n",
    "X_busuk_hitam = busuk_hitam.drop(columns=['busuk_hitam'])\n"
   ]
  },
  {
   "cell_type": "code",
   "execution_count": 55,
   "id": "4b2ec066-c291-4077-a4a6-853cb891f98a",
   "metadata": {},
   "outputs": [],
   "source": [
    "# dataset.columns = dataset.columns.to_series().apply(lambda x: x.strip())"
   ]
  },
  {
   "cell_type": "markdown",
   "id": "95ccf68b",
   "metadata": {},
   "source": [
    "Visalize Dataset"
   ]
  },
  {
   "cell_type": "code",
   "execution_count": 9,
   "id": "22d24ead",
   "metadata": {},
   "outputs": [],
   "source": [
    "plt.style.use('_mpl-gallery')"
   ]
  },
  {
   "cell_type": "code",
   "execution_count": 15,
   "id": "b3467a27",
   "metadata": {},
   "outputs": [
    {
     "name": "stderr",
     "output_type": "stream",
     "text": [
      "d:\\Kuliah\\Lomba\\Agrapana\\Agrapana\\electronic\\naive baiyes\\venv\\lib\\site-packages\\seaborn\\_oldcore.py:1498: FutureWarning: is_categorical_dtype is deprecated and will be removed in a future version. Use isinstance(dtype, CategoricalDtype) instead\n",
      "  if pd.api.types.is_categorical_dtype(vector):\n",
      "d:\\Kuliah\\Lomba\\Agrapana\\Agrapana\\electronic\\naive baiyes\\venv\\lib\\site-packages\\seaborn\\_oldcore.py:1498: FutureWarning: is_categorical_dtype is deprecated and will be removed in a future version. Use isinstance(dtype, CategoricalDtype) instead\n",
      "  if pd.api.types.is_categorical_dtype(vector):\n",
      "d:\\Kuliah\\Lomba\\Agrapana\\Agrapana\\electronic\\naive baiyes\\venv\\lib\\site-packages\\seaborn\\_oldcore.py:1498: FutureWarning: is_categorical_dtype is deprecated and will be removed in a future version. Use isinstance(dtype, CategoricalDtype) instead\n",
      "  if pd.api.types.is_categorical_dtype(vector):\n"
     ]
    },
    {
     "data": {
      "text/plain": [
       "Text(0.5, 1.0, 'Ulat Daun Classes')"
      ]
     },
     "execution_count": 15,
     "metadata": {},
     "output_type": "execute_result"
    },
    {
     "data": {
      "image/png": "[encoded data removed]",
      "text/plain": [
       "<Figure size 200x200 with 1 Axes>"
      ]
     },
     "metadata": {},
     "output_type": "display_data"
    }
   ],
   "source": [
    "# Check y is distributed normally\n",
    "\n",
    "sns.countplot(y=y_ulat_daun)\n",
    "plt.title('Ulat Daun Classes')"
   ]
  },
  {
   "cell_type": "code",
   "execution_count": 17,
   "id": "5c3d22c9",
   "metadata": {},
   "outputs": [
    {
     "name": "stderr",
     "output_type": "stream",
     "text": [
      "d:\\Kuliah\\Lomba\\Agrapana\\Agrapana\\electronic\\naive baiyes\\venv\\lib\\site-packages\\seaborn\\_oldcore.py:1498: FutureWarning: is_categorical_dtype is deprecated and will be removed in a future version. Use isinstance(dtype, CategoricalDtype) instead\n",
      "  if pd.api.types.is_categorical_dtype(vector):\n",
      "d:\\Kuliah\\Lomba\\Agrapana\\Agrapana\\electronic\\naive baiyes\\venv\\lib\\site-packages\\seaborn\\_oldcore.py:1498: FutureWarning: is_categorical_dtype is deprecated and will be removed in a future version. Use isinstance(dtype, CategoricalDtype) instead\n",
      "  if pd.api.types.is_categorical_dtype(vector):\n",
      "d:\\Kuliah\\Lomba\\Agrapana\\Agrapana\\electronic\\naive baiyes\\venv\\lib\\site-packages\\seaborn\\_oldcore.py:1498: FutureWarning: is_categorical_dtype is deprecated and will be removed in a future version. Use isinstance(dtype, CategoricalDtype) instead\n",
      "  if pd.api.types.is_categorical_dtype(vector):\n"
     ]
    },
    {
     "data": {
      "text/plain": [
       "Text(0.5, 1.0, 'Ulat Krop Classes')"
      ]
     },
     "execution_count": 17,
     "metadata": {},
     "output_type": "execute_result"
    },
    {
     "data": {
      "image/png": "[encoded data removed]",
      "text/plain": [
       "<Figure size 200x200 with 1 Axes>"
      ]
     },
     "metadata": {},
     "output_type": "display_data"
    }
   ],
   "source": [
    "sns.countplot(y=y_ulat_krop)\n",
    "plt.title('Ulat Krop Classes')"
   ]
  },
  {
   "cell_type": "code",
   "execution_count": 18,
   "id": "6ab98122",
   "metadata": {},
   "outputs": [
    {
     "name": "stderr",
     "output_type": "stream",
     "text": [
      "d:\\Kuliah\\Lomba\\Agrapana\\Agrapana\\electronic\\naive baiyes\\venv\\lib\\site-packages\\seaborn\\_oldcore.py:1498: FutureWarning: is_categorical_dtype is deprecated and will be removed in a future version. Use isinstance(dtype, CategoricalDtype) instead\n",
      "  if pd.api.types.is_categorical_dtype(vector):\n",
      "d:\\Kuliah\\Lomba\\Agrapana\\Agrapana\\electronic\\naive baiyes\\venv\\lib\\site-packages\\seaborn\\_oldcore.py:1498: FutureWarning: is_categorical_dtype is deprecated and will be removed in a future version. Use isinstance(dtype, CategoricalDtype) instead\n",
      "  if pd.api.types.is_categorical_dtype(vector):\n",
      "d:\\Kuliah\\Lomba\\Agrapana\\Agrapana\\electronic\\naive baiyes\\venv\\lib\\site-packages\\seaborn\\_oldcore.py:1498: FutureWarning: is_categorical_dtype is deprecated and will be removed in a future version. Use isinstance(dtype, CategoricalDtype) instead\n",
      "  if pd.api.types.is_categorical_dtype(vector):\n"
     ]
    },
    {
     "data": {
      "text/plain": [
       "Text(0.5, 1.0, 'Busuk Hitam Classes')"
      ]
     },
     "execution_count": 18,
     "metadata": {},
     "output_type": "execute_result"
    },
    {
     "data": {
      "image/png": "[encoded data removed]",
      "text/plain": [
       "<Figure size 200x200 with 1 Axes>"
      ]
     },
     "metadata": {},
     "output_type": "display_data"
    }
   ],
   "source": [
    "sns.countplot(y=y_busuk_hitam)\n",
    "plt.title('Busuk Hitam Classes')"
   ]
  },
  {
   "cell_type": "code",
   "execution_count": 10,
   "id": "e916640a",
   "metadata": {},
   "outputs": [
    {
     "data": {
      "image/png": "[encoded data removed]",
      "text/plain": [
       "<Figure size 500x1000 with 3 Axes>"
      ]
     },
     "metadata": {},
     "output_type": "display_data"
    }
   ],
   "source": [
    "fig, ax = plt.subplots(3, figsize=(5,10))\n",
    "fig.suptitle('Korelasi Ulat Daun', fontsize=16)\n",
    "fig.subplots_adjust(top=0.8)\n",
    "\n",
    "ax[0].scatter(y=ulat_daun['Curah Hujan'], x=ulat_daun['ulat_daun'])\n",
    "ax[0].set_ylabel('Curah Hujan')\n",
    "\n",
    "ax[1].scatter(y=ulat_daun['Kelembaban'], x=ulat_daun['ulat_daun'])\n",
    "ax[1].set_ylabel('Kelembaban')\n",
    "\n",
    "ax[2].scatter(y=ulat_daun['Suhu'], x=ulat_daun['ulat_daun'])\n",
    "ax[2].set_xlabel('Ulat Daun (0/1)')\n",
    "ax[2].set_ylabel('Suhu')\n",
    "\n",
    "plt.show()"
   ]
  },
  {
   "cell_type": "code",
   "execution_count": 11,
   "id": "08f2d5b2",
   "metadata": {},
   "outputs": [
    {
     "data": {
      "image/png": "[encoded data removed]",
      "text/plain": [
       "<Figure size 500x1000 with 3 Axes>"
      ]
     },
     "metadata": {},
     "output_type": "display_data"
    }
   ],
   "source": [
    "fig, ax = plt.subplots(3, figsize=(5,10))\n",
    "fig.suptitle('Korelasi Ulat Krop', fontsize=16)\n",
    "fig.subplots_adjust(top=0.8)\n",
    "\n",
    "ax[0].scatter(y=ulat_krop['Curah Hujan'], x=ulat_krop['ulat_krop'])\n",
    "ax[0].set_ylabel('Curah Hujan')\n",
    "\n",
    "ax[1].scatter(y=ulat_krop['Kelembaban'], x=ulat_krop['ulat_krop'])\n",
    "ax[1].set_ylabel('Kelembaban')\n",
    "\n",
    "ax[2].scatter(y=ulat_krop['Suhu'], x=ulat_krop['ulat_krop'])\n",
    "ax[2].set_xlabel('Ulat Krop (0/1)')\n",
    "ax[2].set_ylabel('Suhu')\n",
    "\n",
    "plt.show()"
   ]
  },
  {
   "cell_type": "code",
   "execution_count": 12,
   "id": "21f9c54a",
   "metadata": {},
   "outputs": [
    {
     "data": {
      "image/png": "[encoded data removed]",
      "text/plain": [
       "<Figure size 500x1000 with 3 Axes>"
      ]
     },
     "metadata": {},
     "output_type": "display_data"
    }
   ],
   "source": [
    "fig, ax = plt.subplots(3, figsize=(5,10))\n",
    "fig.suptitle('Korelasi Busuk Hitam', fontsize=16)\n",
    "fig.subplots_adjust(top=0.8)\n",
    "\n",
    "ax[0].scatter(y=busuk_hitam['Curah Hujan'], x=busuk_hitam['busuk_hitam'])\n",
    "ax[0].set_ylabel('Curah Hujan')\n",
    "\n",
    "ax[1].scatter(y=busuk_hitam['Kelembaban'], x=busuk_hitam['busuk_hitam'])\n",
    "ax[1].set_ylabel('Kelembaban')\n",
    "\n",
    "ax[2].scatter(y=busuk_hitam['Suhu'], x=busuk_hitam['busuk_hitam'])\n",
    "ax[2].set_xlabel('Busuk Hitam (0/1)')\n",
    "ax[2].set_ylabel('Suhu')\n",
    "\n",
    "plt.show()"
   ]
  },
  {
   "cell_type": "markdown",
   "id": "dcabde72",
   "metadata": {},
   "source": [
    "Preprocessing Data to Model"
   ]
  },
  {
   "cell_type": "code",
   "execution_count": 1,
   "id": "490f4037",
   "metadata": {},
   "outputs": [],
   "source": [
    "from sklearn.model_selection import train_test_split\n",
    "from sklearn.preprocessing import StandardScaler"
   ]
  },
  {
   "cell_type": "code",
   "execution_count": 17,
   "id": "cccffac2",
   "metadata": {},
   "outputs": [],
   "source": [
    "# Scaling data\n",
    "scaler = StandardScaler()\n",
    "\n",
    "X_s_ud = scaler.fit_transform(X_ulat_daun)\n",
    "X_s_uk = scaler.transform(X_ulat_krop)\n",
    "X_s_bh = scaler.transform(X_busuk_hitam)"
   ]
  },
  {
   "cell_type": "code",
   "execution_count": 18,
   "id": "00ef7b3f",
   "metadata": {},
   "outputs": [],
   "source": [
    "# Split test and train data\n",
    "\n",
    "X_train_ud, X_test_ud, y_train_ud, y_test_ud = train_test_split(X_s_ud, y_ulat_daun, test_size=0.1, random_state=0)\n",
    "X_train_uk, X_test_uk, y_train_uk, y_test_uk = train_test_split(X_s_uk, y_ulat_krop, test_size=0.1, random_state=0)\n",
    "X_train_bh, X_test_bh, y_train_bh, y_test_bh = train_test_split(X_s_bh, y_busuk_hitam, test_size=0.1, random_state=0)"
   ]
  },
  {
   "cell_type": "code",
   "execution_count": 19,
   "id": "76a71420",
   "metadata": {},
   "outputs": [],
   "source": [
    "# Define Model\n",
    "from sklearn.naive_bayes import GaussianNB\n",
    "\n",
    "model_ud = GaussianNB()\n",
    "model_uk = GaussianNB()\n",
    "model_bh = GaussianNB()"
   ]
  },
  {
   "cell_type": "code",
   "execution_count": 20,
   "id": "e1dcf011",
   "metadata": {},
   "outputs": [
    {
     "name": "stdout",
     "output_type": "stream",
     "text": [
      "4     1\n",
      "11    0\n",
      "2     1\n",
      "13    0\n",
      "9     1\n",
      "1     1\n",
      "7     1\n",
      "10    1\n",
      "3     0\n",
      "0     0\n",
      "5     0\n",
      "12    0\n",
      "Name: ulat_daun, dtype: int32\n"
     ]
    }
   ],
   "source": [
    "print(y_train_ud)"
   ]
  },
  {
   "cell_type": "code",
   "execution_count": 21,
   "id": "4805adcb",
   "metadata": {},
   "outputs": [
    {
     "data": {
      "text/html": [
       "<style>#sk-container-id-1 {color: black;}#sk-container-id-1 pre{padding: 0;}#sk-container-id-1 div.sk-toggleable {background-color: white;}#sk-container-id-1 label.sk-toggleable__label {cursor: pointer;display: block;width: 100%;margin-bottom: 0;padding: 0.3em;box-sizing: border-box;text-align: center;}#sk-container-id-1 label.sk-toggleable__label-arrow:before {content: \"▸\";float: left;margin-right: 0.25em;color: #696969;}#sk-container-id-1 label.sk-toggleable__label-arrow:hover:before {color: black;}#sk-container-id-1 div.sk-estimator:hover label.sk-toggleable__label-arrow:before {color: black;}#sk-container-id-1 div.sk-toggleable__content {max-height: 0;max-width: 0;overflow: hidden;text-align: left;background-color: #f0f8ff;}#sk-container-id-1 div.sk-toggleable__content pre {margin: 0.2em;color: black;border-radius: 0.25em;background-color: #f0f8ff;}#sk-container-id-1 input.sk-toggleable__control:checked~div.sk-toggleable__content {max-height: 200px;max-width: 100%;overflow: auto;}#sk-container-id-1 input.sk-toggleable__control:checked~label.sk-toggleable__label-arrow:before {content: \"▾\";}#sk-container-id-1 div.sk-estimator input.sk-toggleable__control:checked~label.sk-toggleable__label {background-color: #d4ebff;}#sk-container-id-1 div.sk-label input.sk-toggleable__control:checked~label.sk-toggleable__label {background-color: #d4ebff;}#sk-container-id-1 input.sk-hidden--visually {border: 0;clip: rect(1px 1px 1px 1px);clip: rect(1px, 1px, 1px, 1px);height: 1px;margin: -1px;overflow: hidden;padding: 0;position: absolute;width: 1px;}#sk-container-id-1 div.sk-estimator {font-family: monospace;background-color: #f0f8ff;border: 1px dotted black;border-radius: 0.25em;box-sizing: border-box;margin-bottom: 0.5em;}#sk-container-id-1 div.sk-estimator:hover {background-color: #d4ebff;}#sk-container-id-1 div.sk-parallel-item::after {content: \"\";width: 100%;border-bottom: 1px solid gray;flex-grow: 1;}#sk-container-id-1 div.sk-label:hover label.sk-toggleable__label {background-color: #d4ebff;}#sk-container-id-1 div.sk-serial::before {content: \"\";position: absolute;border-left: 1px solid gray;box-sizing: border-box;top: 0;bottom: 0;left: 50%;z-index: 0;}#sk-container-id-1 div.sk-serial {display: flex;flex-direction: column;align-items: center;background-color: white;padding-right: 0.2em;padding-left: 0.2em;position: relative;}#sk-container-id-1 div.sk-item {position: relative;z-index: 1;}#sk-container-id-1 div.sk-parallel {display: flex;align-items: stretch;justify-content: center;background-color: white;position: relative;}#sk-container-id-1 div.sk-item::before, #sk-container-id-1 div.sk-parallel-item::before {content: \"\";position: absolute;border-left: 1px solid gray;box-sizing: border-box;top: 0;bottom: 0;left: 50%;z-index: -1;}#sk-container-id-1 div.sk-parallel-item {display: flex;flex-direction: column;z-index: 1;position: relative;background-color: white;}#sk-container-id-1 div.sk-parallel-item:first-child::after {align-self: flex-end;width: 50%;}#sk-container-id-1 div.sk-parallel-item:last-child::after {align-self: flex-start;width: 50%;}#sk-container-id-1 div.sk-parallel-item:only-child::after {width: 0;}#sk-container-id-1 div.sk-dashed-wrapped {border: 1px dashed gray;margin: 0 0.4em 0.5em 0.4em;box-sizing: border-box;padding-bottom: 0.4em;background-color: white;}#sk-container-id-1 div.sk-label label {font-family: monospace;font-weight: bold;display: inline-block;line-height: 1.2em;}#sk-container-id-1 div.sk-label-container {text-align: center;}#sk-container-id-1 div.sk-container {/* jupyter's `normalize.less` sets `[hidden] { display: none; }` but bootstrap.min.css set `[hidden] { display: none !important; }` so we also need the `!important` here to be able to override the default hidden behavior on the sphinx rendered scikit-learn.org. See: https://github.com/scikit-learn/scikit-learn/issues/21755 */display: inline-block !important;position: relative;}#sk-container-id-1 div.sk-text-repr-fallback {display: none;}</style><div id=\"sk-container-id-1\" class=\"sk-top-container\"><div class=\"sk-text-repr-fallback\"><pre>GaussianNB()</pre><b>In a Jupyter environment, please rerun this cell to show the HTML representation or trust the notebook. <br />On GitHub, the HTML representation is unable to render, please try loading this page with nbviewer.org.</b></div><div class=\"sk-container\" hidden><div class=\"sk-item\"><div class=\"sk-estimator sk-toggleable\"><input class=\"sk-toggleable__control sk-hidden--visually\" id=\"sk-estimator-id-1\" type=\"checkbox\" checked><label for=\"sk-estimator-id-1\" class=\"sk-toggleable__label sk-toggleable__label-arrow\">GaussianNB</label><div class=\"sk-toggleable__content\"><pre>GaussianNB()</pre></div></div></div></div></div>"
      ],
      "text/plain": [
       "GaussianNB()"
      ]
     },
     "execution_count": 21,
     "metadata": {},
     "output_type": "execute_result"
    }
   ],
   "source": [
    "# Train Model\n",
    "model_ud.fit(X_train_ud, y_train_ud)\n",
    "model_uk.fit(X_train_uk, y_train_uk)\n",
    "model_bh.fit(X_train_bh, y_train_bh)"
   ]
  },
  {
   "cell_type": "code",
   "execution_count": 22,
   "id": "ee83ea37",
   "metadata": {},
   "outputs": [
    {
     "name": "stdout",
     "output_type": "stream",
     "text": [
      "Akurasi Model Ulat Daun: 0.5\n",
      "Akurasi Model Ulat Krop: 0.5\n",
      "Akurasi Model Busuk Hitam: 0.5\n"
     ]
    }
   ],
   "source": [
    "# Metrics\n",
    "from sklearn.metrics import (accuracy_score, confusion_matrix, ConfusionMatrixDisplay, f1_score)\n",
    "\n",
    "y_pred_ud = model_ud.predict(X_test_ud)\n",
    "y_pred_uk = model_ud.predict(X_test_uk)\n",
    "y_pred_bh = model_ud.predict(X_test_bh)\n",
    "\n",
    "# Accuracy\n",
    "ud_accuracy = accuracy_score(y_pred_ud, y_test_ud)\n",
    "uk_accuracy = accuracy_score(y_pred_uk, y_test_uk)\n",
    "bh_accuracy = accuracy_score(y_pred_bh, y_test_bh)\n",
    "\n",
    "print(f\"Akurasi Model Ulat Daun: {ud_accuracy}\")\n",
    "print(f\"Akurasi Model Ulat Krop: {uk_accuracy}\")\n",
    "print(f\"Akurasi Model Busuk Hitam: {bh_accuracy}\")"
   ]
  },
  {
   "cell_type": "code",
   "execution_count": 29,
   "id": "4199e96b",
   "metadata": {},
   "outputs": [
    {
     "name": "stdout",
     "output_type": "stream",
     "text": [
      "8    0\n",
      "6    1\n",
      "Name: ulat_daun, dtype: int32\n"
     ]
    }
   ],
   "source": [
    "print(y_test_ud)"
   ]
  },
  {
   "cell_type": "code",
   "execution_count": 28,
   "id": "0e83440b",
   "metadata": {},
   "outputs": [
    {
     "name": "stdout",
     "output_type": "stream",
     "text": [
      "[1 1]\n"
     ]
    }
   ],
   "source": [
    "print(y_pred_ud)"
   ]
  },
  {
   "cell_type": "code",
   "execution_count": 24,
   "id": "116be695",
   "metadata": {},
   "outputs": [],
   "source": [
    "# Confusion Matrix\n",
    "labels = [0,1]\n",
    "ud_cm = confusion_matrix(y_pred_ud, y_test_ud, labels=labels)\n",
    "uk_cm = confusion_matrix(y_pred_uk, y_test_uk, labels=labels)\n",
    "bh_cm = confusion_matrix(y_pred_bh, y_test_bh, labels=labels)"
   ]
  },
  {
   "cell_type": "code",
   "execution_count": 25,
   "id": "ccba789f",
   "metadata": {},
   "outputs": [
    {
     "data": {
      "text/plain": [
       "<sklearn.metrics._plot.confusion_matrix.ConfusionMatrixDisplay at 0x236f93c9240>"
      ]
     },
     "execution_count": 25,
     "metadata": {},
     "output_type": "execute_result"
    },
    {
     "data": {
      "image/png": "[encoded data removed]",
      "text/plain": [
       "<Figure size 640x480 with 2 Axes>"
      ]
     },
     "metadata": {},
     "output_type": "display_data"
    }
   ],
   "source": [
    "# Ulat Daun\n",
    "disp = ConfusionMatrixDisplay(confusion_matrix=ud_cm,display_labels=labels)\n",
    "disp.plot()"
   ]
  },
  {
   "cell_type": "code",
   "execution_count": 26,
   "id": "1bd170a8",
   "metadata": {},
   "outputs": [
    {
     "data": {
      "text/plain": [
       "<sklearn.metrics._plot.confusion_matrix.ConfusionMatrixDisplay at 0x236fa1fefe0>"
      ]
     },
     "execution_count": 26,
     "metadata": {},
     "output_type": "execute_result"
    },
    {
     "data": {
      "image/png": "[encoded data removed]",
      "text/plain": [
       "<Figure size 640x480 with 2 Axes>"
      ]
     },
     "metadata": {},
     "output_type": "display_data"
    }
   ],
   "source": [
    "# Ulat Krop\n",
    "disp = ConfusionMatrixDisplay(confusion_matrix=uk_cm,display_labels=labels)\n",
    "disp.plot()"
   ]
  },
  {
   "cell_type": "code",
   "execution_count": 27,
   "id": "d48021a3",
   "metadata": {},
   "outputs": [
    {
     "data": {
      "text/plain": [
       "<sklearn.metrics._plot.confusion_matrix.ConfusionMatrixDisplay at 0x236f93cbac0>"
      ]
     },
     "execution_count": 27,
     "metadata": {},
     "output_type": "execute_result"
    },
    {
     "data": {
      "image/png": "[encoded data removed]",
      "text/plain": [
       "<Figure size 640x480 with 2 Axes>"
      ]
     },
     "metadata": {},
     "output_type": "display_data"
    }
   ],
   "source": [
    "# Busuk Hitam\n",
    "disp = ConfusionMatrixDisplay(confusion_matrix=bh_cm,display_labels=labels)\n",
    "disp.plot()"
   ]
  },
  {
   "cell_type": "code",
   "execution_count": 56,
   "id": "4e0ff433-37c5-40ab-a429-4da2abddbfb3",
   "metadata": {},
   "outputs": [],
   "source": [
    "X = dataset.loc[:, ['Suhu','Kelembaban', 'Curah Hujan']].to_numpy()\n",
    "Y = dataset.loc[:, ['Hasil Prediksi']].to_numpy()\n",
    "Y = Y.flatten()"
   ]
  },
  {
   "cell_type": "code",
   "execution_count": 57,
   "id": "500e93be-712e-4d37-ad71-6ae4a21fbb08",
   "metadata": {},
   "outputs": [
    {
     "name": "stdout",
     "output_type": "stream",
     "text": [
      "[[24.5 80.   0. ]\n",
      " [24.8 84.  45.5]\n",
      " [24.8 83.   9.8]\n",
      " [24.3 81.   0.6]\n",
      " [24.1 86.  23. ]\n",
      " [23.9 85.   2.7]\n",
      " [23.2 86.  12.2]\n",
      " [23.5 84.   5.2]\n",
      " [23.5 85.   0.8]\n",
      " [22.8 91.  27.2]\n",
      " [22.9 86.   8. ]\n",
      " [24.3 80.   4.2]\n",
      " [24.3 81.   3.7]\n",
      " [25.2 77.   0. ]]\n"
     ]
    }
   ],
   "source": [
    "print(X)"
   ]
  },
  {
   "cell_type": "code",
   "execution_count": 58,
   "id": "59b39f85-54fc-4c73-b7f3-3498f152c911",
   "metadata": {},
   "outputs": [
    {
     "data": {
      "image/png": "[encoded data removed]",
      "text/plain": [
       "<Figure size 432x288 with 1 Axes>"
      ]
     },
     "metadata": {
      "needs_background": "light"
     },
     "output_type": "display_data"
    }
   ],
   "source": [
    "import matplotlib.pyplot as plt\n",
    "\n",
    "plt.scatter(X[:, 0], X[:, 1], marker=\"*\");"
   ]
  },
  {
   "cell_type": "code",
   "execution_count": 59,
   "id": "6d2d0152-9fa8-482c-bb53-60d3d08d3dae",
   "metadata": {},
   "outputs": [],
   "source": [
    "from sklearn.preprocessing import LabelEncoder"
   ]
  },
  {
   "cell_type": "code",
   "execution_count": 60,
   "id": "2b1c3ff2-d202-460d-9810-569f03ab780c",
   "metadata": {},
   "outputs": [
    {
     "name": "stdout",
     "output_type": "stream",
     "text": [
      "[[24.5  1.   0. ]\n",
      " [24.8  4.  45.5]\n",
      " [24.8  3.   9.8]\n",
      " [24.3  2.   0.6]\n",
      " [24.1  6.  23. ]\n",
      " [23.9  5.   2.7]\n",
      " [23.2  6.  12.2]\n",
      " [23.5  4.   5.2]\n",
      " [23.5  5.   0.8]\n",
      " [22.8  7.  27.2]\n",
      " [22.9  6.   8. ]\n",
      " [24.3  1.   4.2]\n",
      " [24.3  2.   3.7]\n",
      " [25.2  0.   0. ]]\n"
     ]
    }
   ],
   "source": [
    "le = LabelEncoder()\n",
    "X[:, 1] = le.fit_transform(X[:, 1])\n",
    "print(X)"
   ]
  },
  {
   "cell_type": "code",
   "execution_count": 61,
   "id": "c2a4459f-23c5-4fb9-8345-7d62df77f5ab",
   "metadata": {},
   "outputs": [],
   "source": [
    "from sklearn.model_selection import train_test_split"
   ]
  },
  {
   "cell_type": "code",
   "execution_count": 62,
   "id": "c5ec3549-edb1-4175-8dfb-ab86f87498f0",
   "metadata": {},
   "outputs": [],
   "source": [
    "X_train, X_test, y_train, y_test = train_test_split(X, Y, test_size = 0.2, random_state = 0)"
   ]
  },
  {
   "cell_type": "code",
   "execution_count": 63,
   "id": "0474666f-6ebd-4b52-abb7-3aaca7f5207c",
   "metadata": {},
   "outputs": [
    {
     "name": "stdout",
     "output_type": "stream",
     "text": [
      "[[24.3  1.   4.2]\n",
      " [24.8  3.   9.8]\n",
      " [25.2  0.   0. ]\n",
      " [22.8  7.  27.2]\n",
      " [24.8  4.  45.5]\n",
      " [23.5  4.   5.2]\n",
      " [22.9  6.   8. ]\n",
      " [24.3  2.   0.6]\n",
      " [24.5  1.   0. ]\n",
      " [23.9  5.   2.7]\n",
      " [24.3  2.   3.7]]\n"
     ]
    }
   ],
   "source": [
    "print(X_train)"
   ]
  },
  {
   "cell_type": "code",
   "execution_count": 64,
   "id": "57ac6cc5-a1be-45b8-b4f6-d874018dc276",
   "metadata": {},
   "outputs": [],
   "source": [
    "from sklearn.preprocessing import StandardScaler"
   ]
  },
  {
   "cell_type": "code",
   "execution_count": 65,
   "id": "8486a292-a639-4b38-84f4-49280fe14b33",
   "metadata": {},
   "outputs": [],
   "source": [
    "sc = StandardScaler()"
   ]
  },
  {
   "cell_type": "code",
   "execution_count": 66,
   "id": "c145fead-15b1-4fa4-83d9-3aa11102a3c4",
   "metadata": {},
   "outputs": [],
   "source": [
    "X_train = sc.fit_transform(X_train)"
   ]
  },
  {
   "cell_type": "code",
   "execution_count": 67,
   "id": "c7374be0-97b3-447e-bbbf-30f632a77313",
   "metadata": {},
   "outputs": [],
   "source": [
    "X_test = sc.fit_transform(X_test)"
   ]
  },
  {
   "cell_type": "code",
   "execution_count": 68,
   "id": "d7d8b12c-732a-44c6-ad7c-31c9de3f8a4d",
   "metadata": {},
   "outputs": [],
   "source": [
    "from sklearn.naive_bayes import GaussianNB"
   ]
  },
  {
   "cell_type": "code",
   "execution_count": 69,
   "id": "281168a9-7ee7-47df-8515-4845dd317ead",
   "metadata": {},
   "outputs": [
    {
     "data": {
      "text/html": [
       "<style>#sk-container-id-2 {color: black;background-color: white;}#sk-container-id-2 pre{padding: 0;}#sk-container-id-2 div.sk-toggleable {background-color: white;}#sk-container-id-2 label.sk-toggleable__label {cursor: pointer;display: block;width: 100%;margin-bottom: 0;padding: 0.3em;box-sizing: border-box;text-align: center;}#sk-container-id-2 label.sk-toggleable__label-arrow:before {content: \"▸\";float: left;margin-right: 0.25em;color: #696969;}#sk-container-id-2 label.sk-toggleable__label-arrow:hover:before {color: black;}#sk-container-id-2 div.sk-estimator:hover label.sk-toggleable__label-arrow:before {color: black;}#sk-container-id-2 div.sk-toggleable__content {max-height: 0;max-width: 0;overflow: hidden;text-align: left;background-color: #f0f8ff;}#sk-container-id-2 div.sk-toggleable__content pre {margin: 0.2em;color: black;border-radius: 0.25em;background-color: #f0f8ff;}#sk-container-id-2 input.sk-toggleable__control:checked~div.sk-toggleable__content {max-height: 200px;max-width: 100%;overflow: auto;}#sk-container-id-2 input.sk-toggleable__control:checked~label.sk-toggleable__label-arrow:before {content: \"▾\";}#sk-container-id-2 div.sk-estimator input.sk-toggleable__control:checked~label.sk-toggleable__label {background-color: #d4ebff;}#sk-container-id-2 div.sk-label input.sk-toggleable__control:checked~label.sk-toggleable__label {background-color: #d4ebff;}#sk-container-id-2 input.sk-hidden--visually {border: 0;clip: rect(1px 1px 1px 1px);clip: rect(1px, 1px, 1px, 1px);height: 1px;margin: -1px;overflow: hidden;padding: 0;position: absolute;width: 1px;}#sk-container-id-2 div.sk-estimator {font-family: monospace;background-color: #f0f8ff;border: 1px dotted black;border-radius: 0.25em;box-sizing: border-box;margin-bottom: 0.5em;}#sk-container-id-2 div.sk-estimator:hover {background-color: #d4ebff;}#sk-container-id-2 div.sk-parallel-item::after {content: \"\";width: 100%;border-bottom: 1px solid gray;flex-grow: 1;}#sk-container-id-2 div.sk-label:hover label.sk-toggleable__label {background-color: #d4ebff;}#sk-container-id-2 div.sk-serial::before {content: \"\";position: absolute;border-left: 1px solid gray;box-sizing: border-box;top: 0;bottom: 0;left: 50%;z-index: 0;}#sk-container-id-2 div.sk-serial {display: flex;flex-direction: column;align-items: center;background-color: white;padding-right: 0.2em;padding-left: 0.2em;position: relative;}#sk-container-id-2 div.sk-item {position: relative;z-index: 1;}#sk-container-id-2 div.sk-parallel {display: flex;align-items: stretch;justify-content: center;background-color: white;position: relative;}#sk-container-id-2 div.sk-item::before, #sk-container-id-2 div.sk-parallel-item::before {content: \"\";position: absolute;border-left: 1px solid gray;box-sizing: border-box;top: 0;bottom: 0;left: 50%;z-index: -1;}#sk-container-id-2 div.sk-parallel-item {display: flex;flex-direction: column;z-index: 1;position: relative;background-color: white;}#sk-container-id-2 div.sk-parallel-item:first-child::after {align-self: flex-end;width: 50%;}#sk-container-id-2 div.sk-parallel-item:last-child::after {align-self: flex-start;width: 50%;}#sk-container-id-2 div.sk-parallel-item:only-child::after {width: 0;}#sk-container-id-2 div.sk-dashed-wrapped {border: 1px dashed gray;margin: 0 0.4em 0.5em 0.4em;box-sizing: border-box;padding-bottom: 0.4em;background-color: white;}#sk-container-id-2 div.sk-label label {font-family: monospace;font-weight: bold;display: inline-block;line-height: 1.2em;}#sk-container-id-2 div.sk-label-container {text-align: center;}#sk-container-id-2 div.sk-container {/* jupyter's `normalize.less` sets `[hidden] { display: none; }` but bootstrap.min.css set `[hidden] { display: none !important; }` so we also need the `!important` here to be able to override the default hidden behavior on the sphinx rendered scikit-learn.org. See: https://github.com/scikit-learn/scikit-learn/issues/21755 */display: inline-block !important;position: relative;}#sk-container-id-2 div.sk-text-repr-fallback {display: none;}</style><div id=\"sk-container-id-2\" class=\"sk-top-container\"><div class=\"sk-text-repr-fallback\"><pre>GaussianNB()</pre><b>In a Jupyter environment, please rerun this cell to show the HTML representation or trust the notebook. <br />On GitHub, the HTML representation is unable to render, please try loading this page with nbviewer.org.</b></div><div class=\"sk-container\" hidden><div class=\"sk-item\"><div class=\"sk-estimator sk-toggleable\"><input class=\"sk-toggleable__control sk-hidden--visually\" id=\"sk-estimator-id-2\" type=\"checkbox\" checked><label for=\"sk-estimator-id-2\" class=\"sk-toggleable__label sk-toggleable__label-arrow\">GaussianNB</label><div class=\"sk-toggleable__content\"><pre>GaussianNB()</pre></div></div></div></div></div>"
      ],
      "text/plain": [
       "GaussianNB()"
      ]
     },
     "execution_count": 69,
     "metadata": {},
     "output_type": "execute_result"
    }
   ],
   "source": [
    "classifier = GaussianNB()\n",
    "classifier.fit(X_train, y_train)"
   ]
  },
  {
   "cell_type": "code",
   "execution_count": 70,
   "id": "fb03fed6-fa96-4d72-8ff4-4da8a0bc4e47",
   "metadata": {},
   "outputs": [],
   "source": [
    "from sklearn.metrics import (accuracy_score, confusion_matrix, ConfusionMatrixDisplay, f1_score)"
   ]
  },
  {
   "cell_type": "code",
   "execution_count": 71,
   "id": "2ff9e71b-b266-4384-ae4d-014771999888",
   "metadata": {},
   "outputs": [
    {
     "name": "stdout",
     "output_type": "stream",
     "text": [
      "Accuracy: 0.6666666666666666\n",
      "F1 Score: 0.8000000000000002\n"
     ]
    }
   ],
   "source": [
    "y_pred = classifier.predict(X_test)\n",
    "accuray = accuracy_score(y_pred, y_test)\n",
    "f1 = f1_score(y_pred, y_test, average=\"weighted\")\n",
    "\n",
    "print(\"Accuracy:\", accuray)\n",
    "print(\"F1 Score:\", f1)"
   ]
  },
  {
   "cell_type": "code",
   "execution_count": 73,
   "id": "48f4a5aa-80d7-4298-af82-832347d4bf00",
   "metadata": {},
   "outputs": [],
   "source": [
    "off = Offload(classifier)\n",
    "off.export_to_arduino('D:\\qda_offload6.ino')"
   ]
  },
  {
   "cell_type": "code",
   "execution_count": null,
   "id": "76d92f9c-e89a-48dc-babd-829e586e5293",
   "metadata": {},
   "outputs": [],
   "source": []
  }
 ],
 "metadata": {
  "kernelspec": {
   "display_name": "Python 3 (ipykernel)",
   "language": "python",
   "name": "python3"
  },
  "language_info": {
   "codemirror_mode": {
    "name": "ipython",
    "version": 3
   },
   "file_extension": ".py",
   "mimetype": "text/x-python",
   "name": "python",
   "nbconvert_exporter": "python",
   "pygments_lexer": "ipython3",
   "version": "3.10.5"
  }
 },
 "nbformat": 4,
 "nbformat_minor": 5
}
