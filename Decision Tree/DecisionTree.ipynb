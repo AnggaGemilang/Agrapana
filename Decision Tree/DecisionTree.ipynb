{
 "cells": [
  {
   "cell_type": "code",
   "execution_count": 100,
   "metadata": {},
   "outputs": [],
   "source": [
    "import pandas as pd"
   ]
  },
  {
   "cell_type": "code",
   "execution_count": 101,
   "metadata": {},
   "outputs": [
    {
     "data": {
      "text/html": [
       "<div>\n",
       "<style scoped>\n",
       "    .dataframe tbody tr th:only-of-type {\n",
       "        vertical-align: middle;\n",
       "    }\n",
       "\n",
       "    .dataframe tbody tr th {\n",
       "        vertical-align: top;\n",
       "    }\n",
       "\n",
       "    .dataframe thead th {\n",
       "        text-align: right;\n",
       "    }\n",
       "</style>\n",
       "<table border=\"1\" class=\"dataframe\">\n",
       "  <thead>\n",
       "    <tr style=\"text-align: right;\">\n",
       "      <th></th>\n",
       "      <th>id</th>\n",
       "      <th>nutrition</th>\n",
       "      <th>ph</th>\n",
       "      <th>action</th>\n",
       "    </tr>\n",
       "  </thead>\n",
       "  <tbody>\n",
       "    <tr>\n",
       "      <th>0</th>\n",
       "      <td>9046</td>\n",
       "      <td>90</td>\n",
       "      <td>7.0</td>\n",
       "      <td>added acid and alkaline solutions</td>\n",
       "    </tr>\n",
       "    <tr>\n",
       "      <th>1</th>\n",
       "      <td>51676</td>\n",
       "      <td>100</td>\n",
       "      <td>6.0</td>\n",
       "      <td>pH up solution is added</td>\n",
       "    </tr>\n",
       "    <tr>\n",
       "      <th>2</th>\n",
       "      <td>31112</td>\n",
       "      <td>100</td>\n",
       "      <td>8.0</td>\n",
       "      <td>pH down solution is added</td>\n",
       "    </tr>\n",
       "    <tr>\n",
       "      <th>3</th>\n",
       "      <td>60182</td>\n",
       "      <td>95</td>\n",
       "      <td>7.0</td>\n",
       "      <td>added acid and alkaline solutions</td>\n",
       "    </tr>\n",
       "    <tr>\n",
       "      <th>4</th>\n",
       "      <td>1665</td>\n",
       "      <td>90</td>\n",
       "      <td>7.0</td>\n",
       "      <td>added acid and alkaline solutions</td>\n",
       "    </tr>\n",
       "    <tr>\n",
       "      <th>5</th>\n",
       "      <td>56669</td>\n",
       "      <td>92</td>\n",
       "      <td>7.0</td>\n",
       "      <td>added acid and alkaline solutions</td>\n",
       "    </tr>\n",
       "    <tr>\n",
       "      <th>6</th>\n",
       "      <td>53882</td>\n",
       "      <td>80</td>\n",
       "      <td>7.0</td>\n",
       "      <td>added acid and alkaline solutions</td>\n",
       "    </tr>\n",
       "    <tr>\n",
       "      <th>7</th>\n",
       "      <td>10434</td>\n",
       "      <td>70</td>\n",
       "      <td>7.0</td>\n",
       "      <td>added acid and alkaline solutions</td>\n",
       "    </tr>\n",
       "    <tr>\n",
       "      <th>8</th>\n",
       "      <td>27419</td>\n",
       "      <td>100</td>\n",
       "      <td>6.5</td>\n",
       "      <td>pH up solution is added</td>\n",
       "    </tr>\n",
       "    <tr>\n",
       "      <th>9</th>\n",
       "      <td>60491</td>\n",
       "      <td>100</td>\n",
       "      <td>6.9</td>\n",
       "      <td>pH up solution is added</td>\n",
       "    </tr>\n",
       "    <tr>\n",
       "      <th>10</th>\n",
       "      <td>12109</td>\n",
       "      <td>100</td>\n",
       "      <td>6.9</td>\n",
       "      <td>pH up solution is added</td>\n",
       "    </tr>\n",
       "    <tr>\n",
       "      <th>11</th>\n",
       "      <td>12095</td>\n",
       "      <td>100</td>\n",
       "      <td>6.8</td>\n",
       "      <td>pH up solution is added</td>\n",
       "    </tr>\n",
       "    <tr>\n",
       "      <th>12</th>\n",
       "      <td>12175</td>\n",
       "      <td>100</td>\n",
       "      <td>7.5</td>\n",
       "      <td>pH down solution is added</td>\n",
       "    </tr>\n",
       "    <tr>\n",
       "      <th>13</th>\n",
       "      <td>8213</td>\n",
       "      <td>100</td>\n",
       "      <td>8.0</td>\n",
       "      <td>pH down solution is added</td>\n",
       "    </tr>\n",
       "    <tr>\n",
       "      <th>14</th>\n",
       "      <td>5317</td>\n",
       "      <td>100</td>\n",
       "      <td>7.1</td>\n",
       "      <td>pH down solution is added</td>\n",
       "    </tr>\n",
       "    <tr>\n",
       "      <th>15</th>\n",
       "      <td>58202</td>\n",
       "      <td>100</td>\n",
       "      <td>7.5</td>\n",
       "      <td>pH down solution is added</td>\n",
       "    </tr>\n",
       "    <tr>\n",
       "      <th>16</th>\n",
       "      <td>56112</td>\n",
       "      <td>100</td>\n",
       "      <td>8.0</td>\n",
       "      <td>pH down solution is added</td>\n",
       "    </tr>\n",
       "    <tr>\n",
       "      <th>17</th>\n",
       "      <td>34120</td>\n",
       "      <td>90</td>\n",
       "      <td>8.0</td>\n",
       "      <td>solutions acid, alkaline &amp; ph down are added</td>\n",
       "    </tr>\n",
       "    <tr>\n",
       "      <th>18</th>\n",
       "      <td>27458</td>\n",
       "      <td>95</td>\n",
       "      <td>7.5</td>\n",
       "      <td>solutions acid, alkaline &amp; ph down are added</td>\n",
       "    </tr>\n",
       "    <tr>\n",
       "      <th>19</th>\n",
       "      <td>25226</td>\n",
       "      <td>98</td>\n",
       "      <td>7.9</td>\n",
       "      <td>solutions acid, alkaline &amp; ph down are added</td>\n",
       "    </tr>\n",
       "    <tr>\n",
       "      <th>20</th>\n",
       "      <td>70630</td>\n",
       "      <td>97</td>\n",
       "      <td>8.0</td>\n",
       "      <td>solutions acid, alkaline &amp; ph down are added</td>\n",
       "    </tr>\n",
       "    <tr>\n",
       "      <th>21</th>\n",
       "      <td>13861</td>\n",
       "      <td>85</td>\n",
       "      <td>7.5</td>\n",
       "      <td>solutions acid, alkaline &amp; ph down are added</td>\n",
       "    </tr>\n",
       "    <tr>\n",
       "      <th>22</th>\n",
       "      <td>68794</td>\n",
       "      <td>90</td>\n",
       "      <td>6.5</td>\n",
       "      <td>larutan acid, alkaline &amp; ph up are added</td>\n",
       "    </tr>\n",
       "    <tr>\n",
       "      <th>23</th>\n",
       "      <td>64778</td>\n",
       "      <td>80</td>\n",
       "      <td>6.8</td>\n",
       "      <td>larutan acid, alkaline &amp; ph up are added</td>\n",
       "    </tr>\n",
       "    <tr>\n",
       "      <th>24</th>\n",
       "      <td>4219</td>\n",
       "      <td>95</td>\n",
       "      <td>6.0</td>\n",
       "      <td>larutan acid, alkaline &amp; ph up are added</td>\n",
       "    </tr>\n",
       "    <tr>\n",
       "      <th>25</th>\n",
       "      <td>70822</td>\n",
       "      <td>99</td>\n",
       "      <td>6.5</td>\n",
       "      <td>larutan acid, alkaline &amp; ph up are added</td>\n",
       "    </tr>\n",
       "    <tr>\n",
       "      <th>26</th>\n",
       "      <td>38047</td>\n",
       "      <td>96</td>\n",
       "      <td>6.9</td>\n",
       "      <td>larutan acid, alkaline &amp; ph up are added</td>\n",
       "    </tr>\n",
       "    <tr>\n",
       "      <th>27</th>\n",
       "      <td>61843</td>\n",
       "      <td>70</td>\n",
       "      <td>5.0</td>\n",
       "      <td>larutan acid, alkaline &amp; ph up are added</td>\n",
       "    </tr>\n",
       "    <tr>\n",
       "      <th>28</th>\n",
       "      <td>54827</td>\n",
       "      <td>85</td>\n",
       "      <td>5.5</td>\n",
       "      <td>larutan acid, alkaline &amp; ph up are added</td>\n",
       "    </tr>\n",
       "  </tbody>\n",
       "</table>\n",
       "</div>"
      ],
      "text/plain": [
       "       id  nutrition   ph                                        action\n",
       "0    9046         90  7.0             added acid and alkaline solutions\n",
       "1   51676        100  6.0                       pH up solution is added\n",
       "2   31112        100  8.0                     pH down solution is added\n",
       "3   60182         95  7.0             added acid and alkaline solutions\n",
       "4    1665         90  7.0             added acid and alkaline solutions\n",
       "5   56669         92  7.0             added acid and alkaline solutions\n",
       "6   53882         80  7.0             added acid and alkaline solutions\n",
       "7   10434         70  7.0             added acid and alkaline solutions\n",
       "8   27419        100  6.5                       pH up solution is added\n",
       "9   60491        100  6.9                       pH up solution is added\n",
       "10  12109        100  6.9                       pH up solution is added\n",
       "11  12095        100  6.8                       pH up solution is added\n",
       "12  12175        100  7.5                     pH down solution is added\n",
       "13   8213        100  8.0                     pH down solution is added\n",
       "14   5317        100  7.1                     pH down solution is added\n",
       "15  58202        100  7.5                     pH down solution is added\n",
       "16  56112        100  8.0                     pH down solution is added\n",
       "17  34120         90  8.0  solutions acid, alkaline & ph down are added\n",
       "18  27458         95  7.5  solutions acid, alkaline & ph down are added\n",
       "19  25226         98  7.9  solutions acid, alkaline & ph down are added\n",
       "20  70630         97  8.0  solutions acid, alkaline & ph down are added\n",
       "21  13861         85  7.5  solutions acid, alkaline & ph down are added\n",
       "22  68794         90  6.5      larutan acid, alkaline & ph up are added\n",
       "23  64778         80  6.8      larutan acid, alkaline & ph up are added\n",
       "24   4219         95  6.0      larutan acid, alkaline & ph up are added\n",
       "25  70822         99  6.5      larutan acid, alkaline & ph up are added\n",
       "26  38047         96  6.9      larutan acid, alkaline & ph up are added\n",
       "27  61843         70  5.0      larutan acid, alkaline & ph up are added\n",
       "28  54827         85  5.5      larutan acid, alkaline & ph up are added"
      ]
     },
     "execution_count": 101,
     "metadata": {},
     "output_type": "execute_result"
    }
   ],
   "source": [
    "data = pd.read_csv('healthcare-dataset-stroke-data.csv')\n",
    "data.head(30)"
   ]
  },
  {
   "cell_type": "code",
   "execution_count": 102,
   "metadata": {},
   "outputs": [],
   "source": [
    "from sklearn.preprocessing import LabelEncoder"
   ]
  },
  {
   "cell_type": "code",
   "execution_count": 103,
   "metadata": {},
   "outputs": [],
   "source": [
    "enc = LabelEncoder()"
   ]
  },
  {
   "cell_type": "code",
   "execution_count": 104,
   "metadata": {},
   "outputs": [],
   "source": [
    "data['nutrition'] = enc.fit_transform(data['nutrition'].values)\n",
    "data['ph'] = enc.fit_transform(data['ph'].values)\n"
   ]
  },
  {
   "cell_type": "code",
   "execution_count": 105,
   "metadata": {},
   "outputs": [
    {
     "data": {
      "text/html": [
       "<div>\n",
       "<style scoped>\n",
       "    .dataframe tbody tr th:only-of-type {\n",
       "        vertical-align: middle;\n",
       "    }\n",
       "\n",
       "    .dataframe tbody tr th {\n",
       "        vertical-align: top;\n",
       "    }\n",
       "\n",
       "    .dataframe thead th {\n",
       "        text-align: right;\n",
       "    }\n",
       "</style>\n",
       "<table border=\"1\" class=\"dataframe\">\n",
       "  <thead>\n",
       "    <tr style=\"text-align: right;\">\n",
       "      <th></th>\n",
       "      <th>id</th>\n",
       "      <th>nutrition</th>\n",
       "      <th>ph</th>\n",
       "      <th>action</th>\n",
       "    </tr>\n",
       "  </thead>\n",
       "  <tbody>\n",
       "    <tr>\n",
       "      <th>0</th>\n",
       "      <td>9046</td>\n",
       "      <td>3</td>\n",
       "      <td>6</td>\n",
       "      <td>added acid and alkaline solutions</td>\n",
       "    </tr>\n",
       "    <tr>\n",
       "      <th>1</th>\n",
       "      <td>51676</td>\n",
       "      <td>10</td>\n",
       "      <td>2</td>\n",
       "      <td>pH up solution is added</td>\n",
       "    </tr>\n",
       "    <tr>\n",
       "      <th>2</th>\n",
       "      <td>31112</td>\n",
       "      <td>10</td>\n",
       "      <td>10</td>\n",
       "      <td>pH down solution is added</td>\n",
       "    </tr>\n",
       "    <tr>\n",
       "      <th>3</th>\n",
       "      <td>60182</td>\n",
       "      <td>5</td>\n",
       "      <td>6</td>\n",
       "      <td>added acid and alkaline solutions</td>\n",
       "    </tr>\n",
       "    <tr>\n",
       "      <th>4</th>\n",
       "      <td>1665</td>\n",
       "      <td>3</td>\n",
       "      <td>6</td>\n",
       "      <td>added acid and alkaline solutions</td>\n",
       "    </tr>\n",
       "  </tbody>\n",
       "</table>\n",
       "</div>"
      ],
      "text/plain": [
       "      id  nutrition  ph                             action\n",
       "0   9046          3   6  added acid and alkaline solutions\n",
       "1  51676         10   2            pH up solution is added\n",
       "2  31112         10  10          pH down solution is added\n",
       "3  60182          5   6  added acid and alkaline solutions\n",
       "4   1665          3   6  added acid and alkaline solutions"
      ]
     },
     "execution_count": 105,
     "metadata": {},
     "output_type": "execute_result"
    }
   ],
   "source": [
    "data.head()"
   ]
  },
  {
   "cell_type": "code",
   "execution_count": 106,
   "metadata": {},
   "outputs": [
    {
     "name": "stdout",
     "output_type": "stream",
     "text": [
      "<class 'pandas.core.frame.DataFrame'>\n",
      "RangeIndex: 29 entries, 0 to 28\n",
      "Data columns (total 4 columns):\n",
      " #   Column     Non-Null Count  Dtype \n",
      "---  ------     --------------  ----- \n",
      " 0   id         29 non-null     int64 \n",
      " 1   nutrition  29 non-null     int64 \n",
      " 2   ph         29 non-null     int64 \n",
      " 3   action     29 non-null     object\n",
      "dtypes: int64(3), object(1)\n",
      "memory usage: 1.0+ KB\n"
     ]
    }
   ],
   "source": [
    "data.info()"
   ]
  },
  {
   "cell_type": "code",
   "execution_count": 107,
   "metadata": {},
   "outputs": [
    {
     "data": {
      "text/plain": [
       "0    added acid and alkaline solutions\n",
       "1              pH up solution is added\n",
       "2            pH down solution is added\n",
       "3    added acid and alkaline solutions\n",
       "4    added acid and alkaline solutions\n",
       "Name: action, dtype: object"
      ]
     },
     "execution_count": 107,
     "metadata": {},
     "output_type": "execute_result"
    }
   ],
   "source": [
    "cls_data = data['action']\n",
    "cls_data.head()"
   ]
  },
  {
   "cell_type": "code",
   "execution_count": 108,
   "metadata": {},
   "outputs": [
    {
     "data": {
      "text/html": [
       "<div>\n",
       "<style scoped>\n",
       "    .dataframe tbody tr th:only-of-type {\n",
       "        vertical-align: middle;\n",
       "    }\n",
       "\n",
       "    .dataframe tbody tr th {\n",
       "        vertical-align: top;\n",
       "    }\n",
       "\n",
       "    .dataframe thead th {\n",
       "        text-align: right;\n",
       "    }\n",
       "</style>\n",
       "<table border=\"1\" class=\"dataframe\">\n",
       "  <thead>\n",
       "    <tr style=\"text-align: right;\">\n",
       "      <th></th>\n",
       "      <th>id</th>\n",
       "      <th>nutrition</th>\n",
       "      <th>ph</th>\n",
       "    </tr>\n",
       "  </thead>\n",
       "  <tbody>\n",
       "    <tr>\n",
       "      <th>0</th>\n",
       "      <td>9046</td>\n",
       "      <td>3</td>\n",
       "      <td>6</td>\n",
       "    </tr>\n",
       "    <tr>\n",
       "      <th>1</th>\n",
       "      <td>51676</td>\n",
       "      <td>10</td>\n",
       "      <td>2</td>\n",
       "    </tr>\n",
       "    <tr>\n",
       "      <th>2</th>\n",
       "      <td>31112</td>\n",
       "      <td>10</td>\n",
       "      <td>10</td>\n",
       "    </tr>\n",
       "    <tr>\n",
       "      <th>3</th>\n",
       "      <td>60182</td>\n",
       "      <td>5</td>\n",
       "      <td>6</td>\n",
       "    </tr>\n",
       "    <tr>\n",
       "      <th>4</th>\n",
       "      <td>1665</td>\n",
       "      <td>3</td>\n",
       "      <td>6</td>\n",
       "    </tr>\n",
       "  </tbody>\n",
       "</table>\n",
       "</div>"
      ],
      "text/plain": [
       "      id  nutrition  ph\n",
       "0   9046          3   6\n",
       "1  51676         10   2\n",
       "2  31112         10  10\n",
       "3  60182          5   6\n",
       "4   1665          3   6"
      ]
     },
     "execution_count": 108,
     "metadata": {},
     "output_type": "execute_result"
    }
   ],
   "source": [
    "atr_data=data.drop(columns='action')\n",
    "atr_data.head()"
   ]
  },
  {
   "cell_type": "code",
   "execution_count": 109,
   "metadata": {},
   "outputs": [],
   "source": [
    "from sklearn.model_selection import train_test_split\n",
    "from sklearn.metrics import accuracy_score, confusion_matrix, classification_report\n",
    "from sklearn.tree import DecisionTreeClassifier"
   ]
  },
  {
   "cell_type": "code",
   "execution_count": 110,
   "metadata": {},
   "outputs": [
    {
     "data": {
      "text/html": [
       "<style>#sk-container-id-6 {color: black;background-color: white;}#sk-container-id-6 pre{padding: 0;}#sk-container-id-6 div.sk-toggleable {background-color: white;}#sk-container-id-6 label.sk-toggleable__label {cursor: pointer;display: block;width: 100%;margin-bottom: 0;padding: 0.3em;box-sizing: border-box;text-align: center;}#sk-container-id-6 label.sk-toggleable__label-arrow:before {content: \"▸\";float: left;margin-right: 0.25em;color: #696969;}#sk-container-id-6 label.sk-toggleable__label-arrow:hover:before {color: black;}#sk-container-id-6 div.sk-estimator:hover label.sk-toggleable__label-arrow:before {color: black;}#sk-container-id-6 div.sk-toggleable__content {max-height: 0;max-width: 0;overflow: hidden;text-align: left;background-color: #f0f8ff;}#sk-container-id-6 div.sk-toggleable__content pre {margin: 0.2em;color: black;border-radius: 0.25em;background-color: #f0f8ff;}#sk-container-id-6 input.sk-toggleable__control:checked~div.sk-toggleable__content {max-height: 200px;max-width: 100%;overflow: auto;}#sk-container-id-6 input.sk-toggleable__control:checked~label.sk-toggleable__label-arrow:before {content: \"▾\";}#sk-container-id-6 div.sk-estimator input.sk-toggleable__control:checked~label.sk-toggleable__label {background-color: #d4ebff;}#sk-container-id-6 div.sk-label input.sk-toggleable__control:checked~label.sk-toggleable__label {background-color: #d4ebff;}#sk-container-id-6 input.sk-hidden--visually {border: 0;clip: rect(1px 1px 1px 1px);clip: rect(1px, 1px, 1px, 1px);height: 1px;margin: -1px;overflow: hidden;padding: 0;position: absolute;width: 1px;}#sk-container-id-6 div.sk-estimator {font-family: monospace;background-color: #f0f8ff;border: 1px dotted black;border-radius: 0.25em;box-sizing: border-box;margin-bottom: 0.5em;}#sk-container-id-6 div.sk-estimator:hover {background-color: #d4ebff;}#sk-container-id-6 div.sk-parallel-item::after {content: \"\";width: 100%;border-bottom: 1px solid gray;flex-grow: 1;}#sk-container-id-6 div.sk-label:hover label.sk-toggleable__label {background-color: #d4ebff;}#sk-container-id-6 div.sk-serial::before {content: \"\";position: absolute;border-left: 1px solid gray;box-sizing: border-box;top: 0;bottom: 0;left: 50%;z-index: 0;}#sk-container-id-6 div.sk-serial {display: flex;flex-direction: column;align-items: center;background-color: white;padding-right: 0.2em;padding-left: 0.2em;position: relative;}#sk-container-id-6 div.sk-item {position: relative;z-index: 1;}#sk-container-id-6 div.sk-parallel {display: flex;align-items: stretch;justify-content: center;background-color: white;position: relative;}#sk-container-id-6 div.sk-item::before, #sk-container-id-6 div.sk-parallel-item::before {content: \"\";position: absolute;border-left: 1px solid gray;box-sizing: border-box;top: 0;bottom: 0;left: 50%;z-index: -1;}#sk-container-id-6 div.sk-parallel-item {display: flex;flex-direction: column;z-index: 1;position: relative;background-color: white;}#sk-container-id-6 div.sk-parallel-item:first-child::after {align-self: flex-end;width: 50%;}#sk-container-id-6 div.sk-parallel-item:last-child::after {align-self: flex-start;width: 50%;}#sk-container-id-6 div.sk-parallel-item:only-child::after {width: 0;}#sk-container-id-6 div.sk-dashed-wrapped {border: 1px dashed gray;margin: 0 0.4em 0.5em 0.4em;box-sizing: border-box;padding-bottom: 0.4em;background-color: white;}#sk-container-id-6 div.sk-label label {font-family: monospace;font-weight: bold;display: inline-block;line-height: 1.2em;}#sk-container-id-6 div.sk-label-container {text-align: center;}#sk-container-id-6 div.sk-container {/* jupyter's `normalize.less` sets `[hidden] { display: none; }` but bootstrap.min.css set `[hidden] { display: none !important; }` so we also need the `!important` here to be able to override the default hidden behavior on the sphinx rendered scikit-learn.org. See: https://github.com/scikit-learn/scikit-learn/issues/21755 */display: inline-block !important;position: relative;}#sk-container-id-6 div.sk-text-repr-fallback {display: none;}</style><div id=\"sk-container-id-6\" class=\"sk-top-container\"><div class=\"sk-text-repr-fallback\"><pre>DecisionTreeClassifier(random_state=500)</pre><b>In a Jupyter environment, please rerun this cell to show the HTML representation or trust the notebook. <br />On GitHub, the HTML representation is unable to render, please try loading this page with nbviewer.org.</b></div><div class=\"sk-container\" hidden><div class=\"sk-item\"><div class=\"sk-estimator sk-toggleable\"><input class=\"sk-toggleable__control sk-hidden--visually\" id=\"sk-estimator-id-6\" type=\"checkbox\" checked><label for=\"sk-estimator-id-6\" class=\"sk-toggleable__label sk-toggleable__label-arrow\">DecisionTreeClassifier</label><div class=\"sk-toggleable__content\"><pre>DecisionTreeClassifier(random_state=500)</pre></div></div></div></div></div>"
      ],
      "text/plain": [
       "DecisionTreeClassifier(random_state=500)"
      ]
     },
     "execution_count": 110,
     "metadata": {},
     "output_type": "execute_result"
    }
   ],
   "source": [
    "xtrain, xtest, ytrain, ytest = train_test_split(atr_data, cls_data, test_size=0.2, random_state=500)\n",
    "tree_data = DecisionTreeClassifier(random_state=500)\n",
    "tree_data.fit(xtrain, ytrain)"
   ]
  },
  {
   "cell_type": "code",
   "execution_count": 111,
   "metadata": {},
   "outputs": [
    {
     "name": "stdout",
     "output_type": "stream",
     "text": [
      "Accuracy value on data testing 1.0\n"
     ]
    }
   ],
   "source": [
    "print(\"Accuracy value on data testing\", tree_data.score(xtest, ytest))"
   ]
  },
  {
   "cell_type": "code",
   "execution_count": 112,
   "metadata": {},
   "outputs": [],
   "source": [
    "from sklearn.tree import export_graphviz\n",
    "export_graphviz(tree_data, out_file=\"tree_stroke.dot\", class_names=[\"added acid and alkaline solutions\", \"pH up solution is added\", \"pH down solution is added\", \"solutions acid, alkaline & ph down are added\", \"larutan acid, alkaline & ph up are added\"], feature_names=atr_data.columns,\n",
    "impurity=False, filled=True)"
   ]
  },
  {
   "cell_type": "code",
   "execution_count": 113,
   "metadata": {},
   "outputs": [
    {
     "data": {
      "image/svg+xml": "<?xml version=\"1.0\" encoding=\"UTF-8\" standalone=\"no\"?>\n<!DOCTYPE svg PUBLIC \"-//W3C//DTD SVG 1.1//EN\"\n \"http://www.w3.org/Graphics/SVG/1.1/DTD/svg11.dtd\">\n<!-- Generated by graphviz version 2.43.0 (0)\n -->\n<!-- Title: Tree Pages: 1 -->\n<svg width=\"1242pt\" height=\"373pt\"\n viewBox=\"0.00 0.00 1242.00 373.00\" xmlns=\"http://www.w3.org/2000/svg\" xmlns:xlink=\"http://www.w3.org/1999/xlink\">\n<g id=\"graph0\" class=\"graph\" transform=\"scale(1 1) rotate(0) translate(4 369)\">\n<title>Tree</title>\n<polygon fill=\"white\" stroke=\"transparent\" points=\"-4,4 -4,-369 1238,-369 1238,4 -4,4\"/>\n<!-- 0 -->\n<g id=\"node1\" class=\"node\">\n<title>0</title>\n<polygon fill=\"#f8fef4\" stroke=\"black\" points=\"745,-365 508,-365 508,-297 745,-297 745,-365\"/>\n<text text-anchor=\"middle\" x=\"626.5\" y=\"-349.8\" font-family=\"Helvetica,sans-Serif\" font-size=\"14.00\">ph &lt;= 5.5</text>\n<text text-anchor=\"middle\" x=\"626.5\" y=\"-334.8\" font-family=\"Helvetica,sans-Serif\" font-size=\"14.00\">samples = 23</text>\n<text text-anchor=\"middle\" x=\"626.5\" y=\"-319.8\" font-family=\"Helvetica,sans-Serif\" font-size=\"14.00\">value = [4, 6, 4, 5, 4]</text>\n<text text-anchor=\"middle\" x=\"626.5\" y=\"-304.8\" font-family=\"Helvetica,sans-Serif\" font-size=\"14.00\">class = pH up solution is added</text>\n</g>\n<!-- 1 -->\n<g id=\"node2\" class=\"node\">\n<title>1</title>\n<polygon fill=\"#e9fbde\" stroke=\"black\" points=\"565,-261 328,-261 328,-193 565,-193 565,-261\"/>\n<text text-anchor=\"middle\" x=\"446.5\" y=\"-245.8\" font-family=\"Helvetica,sans-Serif\" font-size=\"14.00\">nutrition &lt;= 9.5</text>\n<text text-anchor=\"middle\" x=\"446.5\" y=\"-230.8\" font-family=\"Helvetica,sans-Serif\" font-size=\"14.00\">samples = 11</text>\n<text text-anchor=\"middle\" x=\"446.5\" y=\"-215.8\" font-family=\"Helvetica,sans-Serif\" font-size=\"14.00\">value = [0, 6, 0, 5, 0]</text>\n<text text-anchor=\"middle\" x=\"446.5\" y=\"-200.8\" font-family=\"Helvetica,sans-Serif\" font-size=\"14.00\">class = pH up solution is added</text>\n</g>\n<!-- 0&#45;&gt;1 -->\n<g id=\"edge1\" class=\"edge\">\n<title>0&#45;&gt;1</title>\n<path fill=\"none\" stroke=\"black\" d=\"M568.06,-296.88C550.84,-287.12 531.85,-276.37 514.11,-266.31\"/>\n<polygon fill=\"black\" stroke=\"black\" points=\"515.38,-263.01 504.96,-261.12 511.93,-269.1 515.38,-263.01\"/>\n<text text-anchor=\"middle\" x=\"511.62\" y=\"-281.52\" font-family=\"Helvetica,sans-Serif\" font-size=\"14.00\">True</text>\n</g>\n<!-- 4 -->\n<g id=\"node5\" class=\"node\">\n<title>4</title>\n<polygon fill=\"#ffffff\" stroke=\"black\" points=\"959,-261 656,-261 656,-193 959,-193 959,-261\"/>\n<text text-anchor=\"middle\" x=\"807.5\" y=\"-245.8\" font-family=\"Helvetica,sans-Serif\" font-size=\"14.00\">nutrition &lt;= 9.0</text>\n<text text-anchor=\"middle\" x=\"807.5\" y=\"-230.8\" font-family=\"Helvetica,sans-Serif\" font-size=\"14.00\">samples = 12</text>\n<text text-anchor=\"middle\" x=\"807.5\" y=\"-215.8\" font-family=\"Helvetica,sans-Serif\" font-size=\"14.00\">value = [4, 0, 4, 0, 4]</text>\n<text text-anchor=\"middle\" x=\"807.5\" y=\"-200.8\" font-family=\"Helvetica,sans-Serif\" font-size=\"14.00\">class = added acid and alkaline solutions</text>\n</g>\n<!-- 0&#45;&gt;4 -->\n<g id=\"edge4\" class=\"edge\">\n<title>0&#45;&gt;4</title>\n<path fill=\"none\" stroke=\"black\" d=\"M685.27,-296.88C702.58,-287.12 721.67,-276.37 739.52,-266.31\"/>\n<polygon fill=\"black\" stroke=\"black\" points=\"741.73,-269.08 748.72,-261.12 738.29,-262.99 741.73,-269.08\"/>\n<text text-anchor=\"middle\" x=\"742\" y=\"-281.5\" font-family=\"Helvetica,sans-Serif\" font-size=\"14.00\">False</text>\n</g>\n<!-- 2 -->\n<g id=\"node3\" class=\"node\">\n<title>2</title>\n<polygon fill=\"#7be539\" stroke=\"black\" points=\"237,-149.5 0,-149.5 0,-96.5 237,-96.5 237,-149.5\"/>\n<text text-anchor=\"middle\" x=\"118.5\" y=\"-134.3\" font-family=\"Helvetica,sans-Serif\" font-size=\"14.00\">samples = 6</text>\n<text text-anchor=\"middle\" x=\"118.5\" y=\"-119.3\" font-family=\"Helvetica,sans-Serif\" font-size=\"14.00\">value = [0, 6, 0, 0, 0]</text>\n<text text-anchor=\"middle\" x=\"118.5\" y=\"-104.3\" font-family=\"Helvetica,sans-Serif\" font-size=\"14.00\">class = pH up solution is added</text>\n</g>\n<!-- 1&#45;&gt;2 -->\n<g id=\"edge2\" class=\"edge\">\n<title>1&#45;&gt;2</title>\n<path fill=\"none\" stroke=\"black\" d=\"M340.01,-192.88C298.1,-179.85 250.45,-165.03 210.12,-152.49\"/>\n<polygon fill=\"black\" stroke=\"black\" points=\"211.15,-149.15 200.56,-149.52 209.07,-155.83 211.15,-149.15\"/>\n</g>\n<!-- 3 -->\n<g id=\"node4\" class=\"node\">\n<title>3</title>\n<polygon fill=\"#3c39e5\" stroke=\"black\" points=\"638,-149.5 255,-149.5 255,-96.5 638,-96.5 638,-149.5\"/>\n<text text-anchor=\"middle\" x=\"446.5\" y=\"-134.3\" font-family=\"Helvetica,sans-Serif\" font-size=\"14.00\">samples = 5</text>\n<text text-anchor=\"middle\" x=\"446.5\" y=\"-119.3\" font-family=\"Helvetica,sans-Serif\" font-size=\"14.00\">value = [0, 0, 0, 5, 0]</text>\n<text text-anchor=\"middle\" x=\"446.5\" y=\"-104.3\" font-family=\"Helvetica,sans-Serif\" font-size=\"14.00\">class = solutions acid, alkaline &amp; ph down are added</text>\n</g>\n<!-- 1&#45;&gt;3 -->\n<g id=\"edge3\" class=\"edge\">\n<title>1&#45;&gt;3</title>\n<path fill=\"none\" stroke=\"black\" d=\"M446.5,-192.88C446.5,-182.33 446.5,-170.6 446.5,-159.85\"/>\n<polygon fill=\"black\" stroke=\"black\" points=\"450,-159.52 446.5,-149.52 443,-159.52 450,-159.52\"/>\n</g>\n<!-- 5 -->\n<g id=\"node6\" class=\"node\">\n<title>5</title>\n<polygon fill=\"#ffffff\" stroke=\"black\" points=\"959,-157 656,-157 656,-89 959,-89 959,-157\"/>\n<text text-anchor=\"middle\" x=\"807.5\" y=\"-141.8\" font-family=\"Helvetica,sans-Serif\" font-size=\"14.00\">ph &lt;= 7.0</text>\n<text text-anchor=\"middle\" x=\"807.5\" y=\"-126.8\" font-family=\"Helvetica,sans-Serif\" font-size=\"14.00\">samples = 8</text>\n<text text-anchor=\"middle\" x=\"807.5\" y=\"-111.8\" font-family=\"Helvetica,sans-Serif\" font-size=\"14.00\">value = [4, 0, 0, 0, 4]</text>\n<text text-anchor=\"middle\" x=\"807.5\" y=\"-96.8\" font-family=\"Helvetica,sans-Serif\" font-size=\"14.00\">class = added acid and alkaline solutions</text>\n</g>\n<!-- 4&#45;&gt;5 -->\n<g id=\"edge5\" class=\"edge\">\n<title>4&#45;&gt;5</title>\n<path fill=\"none\" stroke=\"black\" d=\"M807.5,-192.88C807.5,-184.78 807.5,-175.98 807.5,-167.47\"/>\n<polygon fill=\"black\" stroke=\"black\" points=\"811,-167.3 807.5,-157.3 804,-167.3 811,-167.3\"/>\n</g>\n<!-- 8 -->\n<g id=\"node9\" class=\"node\">\n<title>8</title>\n<polygon fill=\"#39e5c5\" stroke=\"black\" points=\"1234,-149.5 977,-149.5 977,-96.5 1234,-96.5 1234,-149.5\"/>\n<text text-anchor=\"middle\" x=\"1105.5\" y=\"-134.3\" font-family=\"Helvetica,sans-Serif\" font-size=\"14.00\">samples = 4</text>\n<text text-anchor=\"middle\" x=\"1105.5\" y=\"-119.3\" font-family=\"Helvetica,sans-Serif\" font-size=\"14.00\">value = [0, 0, 4, 0, 0]</text>\n<text text-anchor=\"middle\" x=\"1105.5\" y=\"-104.3\" font-family=\"Helvetica,sans-Serif\" font-size=\"14.00\">class = pH down solution is added</text>\n</g>\n<!-- 4&#45;&gt;8 -->\n<g id=\"edge8\" class=\"edge\">\n<title>4&#45;&gt;8</title>\n<path fill=\"none\" stroke=\"black\" d=\"M904.25,-192.88C942.01,-179.96 984.88,-165.28 1021.33,-152.81\"/>\n<polygon fill=\"black\" stroke=\"black\" points=\"1022.61,-156.07 1030.94,-149.52 1020.35,-149.45 1022.61,-156.07\"/>\n</g>\n<!-- 6 -->\n<g id=\"node7\" class=\"node\">\n<title>6</title>\n<polygon fill=\"#e58139\" stroke=\"black\" points=\"786,-53 483,-53 483,0 786,0 786,-53\"/>\n<text text-anchor=\"middle\" x=\"634.5\" y=\"-37.8\" font-family=\"Helvetica,sans-Serif\" font-size=\"14.00\">samples = 4</text>\n<text text-anchor=\"middle\" x=\"634.5\" y=\"-22.8\" font-family=\"Helvetica,sans-Serif\" font-size=\"14.00\">value = [4, 0, 0, 0, 0]</text>\n<text text-anchor=\"middle\" x=\"634.5\" y=\"-7.8\" font-family=\"Helvetica,sans-Serif\" font-size=\"14.00\">class = added acid and alkaline solutions</text>\n</g>\n<!-- 5&#45;&gt;6 -->\n<g id=\"edge6\" class=\"edge\">\n<title>5&#45;&gt;6</title>\n<path fill=\"none\" stroke=\"black\" d=\"M746.99,-88.95C728.66,-78.93 708.6,-67.98 690.57,-58.13\"/>\n<polygon fill=\"black\" stroke=\"black\" points=\"691.8,-54.81 681.34,-53.09 688.44,-60.95 691.8,-54.81\"/>\n</g>\n<!-- 7 -->\n<g id=\"node8\" class=\"node\">\n<title>7</title>\n<polygon fill=\"#e539c0\" stroke=\"black\" points=\"1155,-53 804,-53 804,0 1155,0 1155,-53\"/>\n<text text-anchor=\"middle\" x=\"979.5\" y=\"-37.8\" font-family=\"Helvetica,sans-Serif\" font-size=\"14.00\">samples = 4</text>\n<text text-anchor=\"middle\" x=\"979.5\" y=\"-22.8\" font-family=\"Helvetica,sans-Serif\" font-size=\"14.00\">value = [0, 0, 0, 0, 4]</text>\n<text text-anchor=\"middle\" x=\"979.5\" y=\"-7.8\" font-family=\"Helvetica,sans-Serif\" font-size=\"14.00\">class = larutan acid, alkaline &amp; ph up are added</text>\n</g>\n<!-- 5&#45;&gt;7 -->\n<g id=\"edge7\" class=\"edge\">\n<title>5&#45;&gt;7</title>\n<path fill=\"none\" stroke=\"black\" d=\"M867.66,-88.95C885.89,-78.93 905.83,-67.98 923.76,-58.13\"/>\n<polygon fill=\"black\" stroke=\"black\" points=\"925.85,-60.97 932.93,-53.09 922.48,-54.83 925.85,-60.97\"/>\n</g>\n</g>\n</svg>\n",
      "text/plain": [
       "<graphviz.sources.Source at 0x7fe92cb7afe0>"
      ]
     },
     "execution_count": 113,
     "metadata": {},
     "output_type": "execute_result"
    }
   ],
   "source": [
    "import graphviz\n",
    "with open(\"tree_stroke.dot\") as fig:\n",
    "    dot_graph = fig.read()\n",
    "graphviz.Source(dot_graph)"
   ]
  }
 ],
 "metadata": {
  "kernelspec": {
   "display_name": "Python 3",
   "language": "python",
   "name": "python3"
  },
  "language_info": {
   "codemirror_mode": {
    "name": "ipython",
    "version": 3
   },
   "file_extension": ".py",
   "mimetype": "text/x-python",
   "name": "python",
   "nbconvert_exporter": "python",
   "pygments_lexer": "ipython3",
   "version": "3.10.6"
  },
  "orig_nbformat": 4,
  "vscode": {
   "interpreter": {
    "hash": "e7370f93d1d0cde622a1f8e1c04877d8463912d04d973331ad4851f04de6915a"
   }
  }
 },
 "nbformat": 4,
 "nbformat_minor": 2
}
