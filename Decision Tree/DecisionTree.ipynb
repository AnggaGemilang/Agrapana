{
 "cells": [
  {
   "cell_type": "code",
   "execution_count": 20,
   "metadata": {},
   "outputs": [],
   "source": [
    "import pandas as pd"
   ]
  },
  {
   "cell_type": "code",
   "execution_count": 21,
   "metadata": {},
   "outputs": [
    {
     "data": {
      "text/html": [
       "<div>\n",
       "<style scoped>\n",
       "    .dataframe tbody tr th:only-of-type {\n",
       "        vertical-align: middle;\n",
       "    }\n",
       "\n",
       "    .dataframe tbody tr th {\n",
       "        vertical-align: top;\n",
       "    }\n",
       "\n",
       "    .dataframe thead th {\n",
       "        text-align: right;\n",
       "    }\n",
       "</style>\n",
       "<table border=\"1\" class=\"dataframe\">\n",
       "  <thead>\n",
       "    <tr style=\"text-align: right;\">\n",
       "      <th></th>\n",
       "      <th>id</th>\n",
       "      <th>nutrisi</th>\n",
       "      <th>ph</th>\n",
       "      <th>aksi</th>\n",
       "    </tr>\n",
       "  </thead>\n",
       "  <tbody>\n",
       "    <tr>\n",
       "      <th>0</th>\n",
       "      <td>9046</td>\n",
       "      <td>90</td>\n",
       "      <td>7.0</td>\n",
       "      <td>larutan a &amp; b dimasukkan</td>\n",
       "    </tr>\n",
       "    <tr>\n",
       "      <th>1</th>\n",
       "      <td>51676</td>\n",
       "      <td>100</td>\n",
       "      <td>6.0</td>\n",
       "      <td>larutan ph up dimasukkan</td>\n",
       "    </tr>\n",
       "    <tr>\n",
       "      <th>2</th>\n",
       "      <td>31112</td>\n",
       "      <td>100</td>\n",
       "      <td>8.0</td>\n",
       "      <td>larutan ph down dimasukkan</td>\n",
       "    </tr>\n",
       "    <tr>\n",
       "      <th>3</th>\n",
       "      <td>60182</td>\n",
       "      <td>95</td>\n",
       "      <td>7.0</td>\n",
       "      <td>larutan a &amp; b dimasukkan</td>\n",
       "    </tr>\n",
       "    <tr>\n",
       "      <th>4</th>\n",
       "      <td>1665</td>\n",
       "      <td>90</td>\n",
       "      <td>7.0</td>\n",
       "      <td>larutan a &amp; b dimasukkan</td>\n",
       "    </tr>\n",
       "    <tr>\n",
       "      <th>5</th>\n",
       "      <td>56669</td>\n",
       "      <td>92</td>\n",
       "      <td>7.0</td>\n",
       "      <td>larutan a &amp; b dimasukkan</td>\n",
       "    </tr>\n",
       "    <tr>\n",
       "      <th>6</th>\n",
       "      <td>53882</td>\n",
       "      <td>80</td>\n",
       "      <td>7.0</td>\n",
       "      <td>larutan a &amp; b dimasukkan</td>\n",
       "    </tr>\n",
       "    <tr>\n",
       "      <th>7</th>\n",
       "      <td>10434</td>\n",
       "      <td>70</td>\n",
       "      <td>7.0</td>\n",
       "      <td>larutan a &amp; b dimasukkan</td>\n",
       "    </tr>\n",
       "    <tr>\n",
       "      <th>8</th>\n",
       "      <td>27419</td>\n",
       "      <td>100</td>\n",
       "      <td>6.5</td>\n",
       "      <td>larutan ph up dimasukkan</td>\n",
       "    </tr>\n",
       "    <tr>\n",
       "      <th>9</th>\n",
       "      <td>60491</td>\n",
       "      <td>100</td>\n",
       "      <td>6.9</td>\n",
       "      <td>larutan ph up dimasukkan</td>\n",
       "    </tr>\n",
       "    <tr>\n",
       "      <th>10</th>\n",
       "      <td>12109</td>\n",
       "      <td>100</td>\n",
       "      <td>6.9</td>\n",
       "      <td>larutan ph up dimasukkan</td>\n",
       "    </tr>\n",
       "    <tr>\n",
       "      <th>11</th>\n",
       "      <td>12095</td>\n",
       "      <td>100</td>\n",
       "      <td>6.8</td>\n",
       "      <td>larutan ph up dimasukkan</td>\n",
       "    </tr>\n",
       "    <tr>\n",
       "      <th>12</th>\n",
       "      <td>12175</td>\n",
       "      <td>100</td>\n",
       "      <td>7.5</td>\n",
       "      <td>larutan ph down dimasukkan</td>\n",
       "    </tr>\n",
       "    <tr>\n",
       "      <th>13</th>\n",
       "      <td>8213</td>\n",
       "      <td>100</td>\n",
       "      <td>8.0</td>\n",
       "      <td>larutan ph down dimasukkan</td>\n",
       "    </tr>\n",
       "    <tr>\n",
       "      <th>14</th>\n",
       "      <td>5317</td>\n",
       "      <td>100</td>\n",
       "      <td>7.1</td>\n",
       "      <td>larutan ph down dimasukkan</td>\n",
       "    </tr>\n",
       "    <tr>\n",
       "      <th>15</th>\n",
       "      <td>58202</td>\n",
       "      <td>100</td>\n",
       "      <td>7.5</td>\n",
       "      <td>larutan ph down dimasukkan</td>\n",
       "    </tr>\n",
       "    <tr>\n",
       "      <th>16</th>\n",
       "      <td>56112</td>\n",
       "      <td>100</td>\n",
       "      <td>8.0</td>\n",
       "      <td>larutan ph down dimasukkan</td>\n",
       "    </tr>\n",
       "    <tr>\n",
       "      <th>17</th>\n",
       "      <td>34120</td>\n",
       "      <td>90</td>\n",
       "      <td>8.0</td>\n",
       "      <td>larutan a, b, &amp; ph down dimasukkan</td>\n",
       "    </tr>\n",
       "    <tr>\n",
       "      <th>18</th>\n",
       "      <td>27458</td>\n",
       "      <td>95</td>\n",
       "      <td>7.5</td>\n",
       "      <td>larutan a, b, &amp; ph down dimasukkan</td>\n",
       "    </tr>\n",
       "    <tr>\n",
       "      <th>19</th>\n",
       "      <td>25226</td>\n",
       "      <td>98</td>\n",
       "      <td>7.9</td>\n",
       "      <td>larutan a, b, &amp; ph down dimasukkan</td>\n",
       "    </tr>\n",
       "    <tr>\n",
       "      <th>20</th>\n",
       "      <td>70630</td>\n",
       "      <td>97</td>\n",
       "      <td>8.0</td>\n",
       "      <td>larutan a, b, &amp; ph down dimasukkan</td>\n",
       "    </tr>\n",
       "    <tr>\n",
       "      <th>21</th>\n",
       "      <td>13861</td>\n",
       "      <td>85</td>\n",
       "      <td>7.5</td>\n",
       "      <td>larutan a, b, &amp; ph down dimasukkan</td>\n",
       "    </tr>\n",
       "    <tr>\n",
       "      <th>22</th>\n",
       "      <td>68794</td>\n",
       "      <td>90</td>\n",
       "      <td>6.5</td>\n",
       "      <td>larutan a, b, &amp; ph up dimasukkan</td>\n",
       "    </tr>\n",
       "    <tr>\n",
       "      <th>23</th>\n",
       "      <td>64778</td>\n",
       "      <td>80</td>\n",
       "      <td>6.8</td>\n",
       "      <td>larutan a, b, &amp; ph up dimasukkan</td>\n",
       "    </tr>\n",
       "    <tr>\n",
       "      <th>24</th>\n",
       "      <td>4219</td>\n",
       "      <td>95</td>\n",
       "      <td>6.0</td>\n",
       "      <td>larutan a, b, &amp; ph up dimasukkan</td>\n",
       "    </tr>\n",
       "    <tr>\n",
       "      <th>25</th>\n",
       "      <td>70822</td>\n",
       "      <td>99</td>\n",
       "      <td>6.5</td>\n",
       "      <td>larutan a, b, &amp; ph up dimasukkan</td>\n",
       "    </tr>\n",
       "    <tr>\n",
       "      <th>26</th>\n",
       "      <td>38047</td>\n",
       "      <td>96</td>\n",
       "      <td>6.9</td>\n",
       "      <td>larutan a, b, &amp; ph up dimasukkan</td>\n",
       "    </tr>\n",
       "    <tr>\n",
       "      <th>27</th>\n",
       "      <td>61843</td>\n",
       "      <td>70</td>\n",
       "      <td>5.0</td>\n",
       "      <td>larutan a, b, &amp; ph up dimasukkan</td>\n",
       "    </tr>\n",
       "    <tr>\n",
       "      <th>28</th>\n",
       "      <td>54827</td>\n",
       "      <td>85</td>\n",
       "      <td>5.5</td>\n",
       "      <td>larutan a, b, &amp; ph up dimasukkan</td>\n",
       "    </tr>\n",
       "  </tbody>\n",
       "</table>\n",
       "</div>"
      ],
      "text/plain": [
       "       id  nutrisi   ph                                aksi\n",
       "0    9046       90  7.0            larutan a & b dimasukkan\n",
       "1   51676      100  6.0            larutan ph up dimasukkan\n",
       "2   31112      100  8.0          larutan ph down dimasukkan\n",
       "3   60182       95  7.0            larutan a & b dimasukkan\n",
       "4    1665       90  7.0            larutan a & b dimasukkan\n",
       "5   56669       92  7.0            larutan a & b dimasukkan\n",
       "6   53882       80  7.0            larutan a & b dimasukkan\n",
       "7   10434       70  7.0            larutan a & b dimasukkan\n",
       "8   27419      100  6.5            larutan ph up dimasukkan\n",
       "9   60491      100  6.9            larutan ph up dimasukkan\n",
       "10  12109      100  6.9            larutan ph up dimasukkan\n",
       "11  12095      100  6.8            larutan ph up dimasukkan\n",
       "12  12175      100  7.5          larutan ph down dimasukkan\n",
       "13   8213      100  8.0          larutan ph down dimasukkan\n",
       "14   5317      100  7.1          larutan ph down dimasukkan\n",
       "15  58202      100  7.5          larutan ph down dimasukkan\n",
       "16  56112      100  8.0          larutan ph down dimasukkan\n",
       "17  34120       90  8.0  larutan a, b, & ph down dimasukkan\n",
       "18  27458       95  7.5  larutan a, b, & ph down dimasukkan\n",
       "19  25226       98  7.9  larutan a, b, & ph down dimasukkan\n",
       "20  70630       97  8.0  larutan a, b, & ph down dimasukkan\n",
       "21  13861       85  7.5  larutan a, b, & ph down dimasukkan\n",
       "22  68794       90  6.5    larutan a, b, & ph up dimasukkan\n",
       "23  64778       80  6.8    larutan a, b, & ph up dimasukkan\n",
       "24   4219       95  6.0    larutan a, b, & ph up dimasukkan\n",
       "25  70822       99  6.5    larutan a, b, & ph up dimasukkan\n",
       "26  38047       96  6.9    larutan a, b, & ph up dimasukkan\n",
       "27  61843       70  5.0    larutan a, b, & ph up dimasukkan\n",
       "28  54827       85  5.5    larutan a, b, & ph up dimasukkan"
      ]
     },
     "execution_count": 21,
     "metadata": {},
     "output_type": "execute_result"
    }
   ],
   "source": [
    "data = pd.read_csv('healthcare-dataset-stroke-data.csv')\n",
    "data.head(30)"
   ]
  },
  {
   "cell_type": "code",
   "execution_count": 22,
   "metadata": {},
   "outputs": [],
   "source": [
    "from sklearn.preprocessing import LabelEncoder"
   ]
  },
  {
   "cell_type": "code",
   "execution_count": 23,
   "metadata": {},
   "outputs": [],
   "source": [
    "enc = LabelEncoder()"
   ]
  },
  {
   "cell_type": "code",
   "execution_count": 24,
   "metadata": {},
   "outputs": [],
   "source": [
    "data['nutrisi'] = enc.fit_transform(data['nutrisi'].values)\n",
    "data['ph'] = enc.fit_transform(data['ph'].values)\n"
   ]
  },
  {
   "cell_type": "code",
   "execution_count": 37,
   "metadata": {},
   "outputs": [
    {
     "data": {
      "text/html": [
       "<div>\n",
       "<style scoped>\n",
       "    .dataframe tbody tr th:only-of-type {\n",
       "        vertical-align: middle;\n",
       "    }\n",
       "\n",
       "    .dataframe tbody tr th {\n",
       "        vertical-align: top;\n",
       "    }\n",
       "\n",
       "    .dataframe thead th {\n",
       "        text-align: right;\n",
       "    }\n",
       "</style>\n",
       "<table border=\"1\" class=\"dataframe\">\n",
       "  <thead>\n",
       "    <tr style=\"text-align: right;\">\n",
       "      <th></th>\n",
       "      <th>id</th>\n",
       "      <th>nutrisi</th>\n",
       "      <th>ph</th>\n",
       "      <th>aksi</th>\n",
       "    </tr>\n",
       "  </thead>\n",
       "  <tbody>\n",
       "    <tr>\n",
       "      <th>0</th>\n",
       "      <td>9046</td>\n",
       "      <td>3</td>\n",
       "      <td>6</td>\n",
       "      <td>larutan a &amp; b dimasukkan</td>\n",
       "    </tr>\n",
       "    <tr>\n",
       "      <th>1</th>\n",
       "      <td>51676</td>\n",
       "      <td>10</td>\n",
       "      <td>2</td>\n",
       "      <td>larutan ph up dimasukkan</td>\n",
       "    </tr>\n",
       "    <tr>\n",
       "      <th>2</th>\n",
       "      <td>31112</td>\n",
       "      <td>10</td>\n",
       "      <td>10</td>\n",
       "      <td>larutan ph down dimasukkan</td>\n",
       "    </tr>\n",
       "    <tr>\n",
       "      <th>3</th>\n",
       "      <td>60182</td>\n",
       "      <td>5</td>\n",
       "      <td>6</td>\n",
       "      <td>larutan a &amp; b dimasukkan</td>\n",
       "    </tr>\n",
       "    <tr>\n",
       "      <th>4</th>\n",
       "      <td>1665</td>\n",
       "      <td>3</td>\n",
       "      <td>6</td>\n",
       "      <td>larutan a &amp; b dimasukkan</td>\n",
       "    </tr>\n",
       "  </tbody>\n",
       "</table>\n",
       "</div>"
      ],
      "text/plain": [
       "      id  nutrisi  ph                        aksi\n",
       "0   9046        3   6    larutan a & b dimasukkan\n",
       "1  51676       10   2    larutan ph up dimasukkan\n",
       "2  31112       10  10  larutan ph down dimasukkan\n",
       "3  60182        5   6    larutan a & b dimasukkan\n",
       "4   1665        3   6    larutan a & b dimasukkan"
      ]
     },
     "execution_count": 37,
     "metadata": {},
     "output_type": "execute_result"
    }
   ],
   "source": [
    "data.head()"
   ]
  },
  {
   "cell_type": "code",
   "execution_count": 26,
   "metadata": {},
   "outputs": [
    {
     "name": "stdout",
     "output_type": "stream",
     "text": [
      "<class 'pandas.core.frame.DataFrame'>\n",
      "RangeIndex: 29 entries, 0 to 28\n",
      "Data columns (total 4 columns):\n",
      "id         29 non-null int64\n",
      "nutrisi    29 non-null int64\n",
      "ph         29 non-null int64\n",
      "aksi       29 non-null object\n",
      "dtypes: int64(3), object(1)\n",
      "memory usage: 1.0+ KB\n"
     ]
    }
   ],
   "source": [
    "data.info()"
   ]
  },
  {
   "cell_type": "code",
   "execution_count": 27,
   "metadata": {},
   "outputs": [
    {
     "data": {
      "text/plain": [
       "0      larutan a & b dimasukkan\n",
       "1      larutan ph up dimasukkan\n",
       "2    larutan ph down dimasukkan\n",
       "3      larutan a & b dimasukkan\n",
       "4      larutan a & b dimasukkan\n",
       "Name: aksi, dtype: object"
      ]
     },
     "execution_count": 27,
     "metadata": {},
     "output_type": "execute_result"
    }
   ],
   "source": [
    "cls_data = data['aksi']\n",
    "cls_data.head()"
   ]
  },
  {
   "cell_type": "code",
   "execution_count": 28,
   "metadata": {},
   "outputs": [
    {
     "data": {
      "text/html": [
       "<div>\n",
       "<style scoped>\n",
       "    .dataframe tbody tr th:only-of-type {\n",
       "        vertical-align: middle;\n",
       "    }\n",
       "\n",
       "    .dataframe tbody tr th {\n",
       "        vertical-align: top;\n",
       "    }\n",
       "\n",
       "    .dataframe thead th {\n",
       "        text-align: right;\n",
       "    }\n",
       "</style>\n",
       "<table border=\"1\" class=\"dataframe\">\n",
       "  <thead>\n",
       "    <tr style=\"text-align: right;\">\n",
       "      <th></th>\n",
       "      <th>id</th>\n",
       "      <th>nutrisi</th>\n",
       "      <th>ph</th>\n",
       "    </tr>\n",
       "  </thead>\n",
       "  <tbody>\n",
       "    <tr>\n",
       "      <th>0</th>\n",
       "      <td>9046</td>\n",
       "      <td>3</td>\n",
       "      <td>6</td>\n",
       "    </tr>\n",
       "    <tr>\n",
       "      <th>1</th>\n",
       "      <td>51676</td>\n",
       "      <td>10</td>\n",
       "      <td>2</td>\n",
       "    </tr>\n",
       "    <tr>\n",
       "      <th>2</th>\n",
       "      <td>31112</td>\n",
       "      <td>10</td>\n",
       "      <td>10</td>\n",
       "    </tr>\n",
       "    <tr>\n",
       "      <th>3</th>\n",
       "      <td>60182</td>\n",
       "      <td>5</td>\n",
       "      <td>6</td>\n",
       "    </tr>\n",
       "    <tr>\n",
       "      <th>4</th>\n",
       "      <td>1665</td>\n",
       "      <td>3</td>\n",
       "      <td>6</td>\n",
       "    </tr>\n",
       "  </tbody>\n",
       "</table>\n",
       "</div>"
      ],
      "text/plain": [
       "      id  nutrisi  ph\n",
       "0   9046        3   6\n",
       "1  51676       10   2\n",
       "2  31112       10  10\n",
       "3  60182        5   6\n",
       "4   1665        3   6"
      ]
     },
     "execution_count": 28,
     "metadata": {},
     "output_type": "execute_result"
    }
   ],
   "source": [
    "atr_data=data.drop(columns='aksi')\n",
    "atr_data.head()"
   ]
  },
  {
   "cell_type": "code",
   "execution_count": 29,
   "metadata": {},
   "outputs": [],
   "source": [
    "from sklearn.model_selection import train_test_split\n",
    "from sklearn.metrics import accuracy_score, confusion_matrix, classification_report\n",
    "from sklearn.tree import DecisionTreeClassifier"
   ]
  },
  {
   "cell_type": "code",
   "execution_count": 30,
   "metadata": {},
   "outputs": [
    {
     "data": {
      "text/html": [
       "<style>#sk-container-id-1 {color: black;background-color: white;}#sk-container-id-1 pre{padding: 0;}#sk-container-id-1 div.sk-toggleable {background-color: white;}#sk-container-id-1 label.sk-toggleable__label {cursor: pointer;display: block;width: 100%;margin-bottom: 0;padding: 0.3em;box-sizing: border-box;text-align: center;}#sk-container-id-1 label.sk-toggleable__label-arrow:before {content: \"▸\";float: left;margin-right: 0.25em;color: #696969;}#sk-container-id-1 label.sk-toggleable__label-arrow:hover:before {color: black;}#sk-container-id-1 div.sk-estimator:hover label.sk-toggleable__label-arrow:before {color: black;}#sk-container-id-1 div.sk-toggleable__content {max-height: 0;max-width: 0;overflow: hidden;text-align: left;background-color: #f0f8ff;}#sk-container-id-1 div.sk-toggleable__content pre {margin: 0.2em;color: black;border-radius: 0.25em;background-color: #f0f8ff;}#sk-container-id-1 input.sk-toggleable__control:checked~div.sk-toggleable__content {max-height: 200px;max-width: 100%;overflow: auto;}#sk-container-id-1 input.sk-toggleable__control:checked~label.sk-toggleable__label-arrow:before {content: \"▾\";}#sk-container-id-1 div.sk-estimator input.sk-toggleable__control:checked~label.sk-toggleable__label {background-color: #d4ebff;}#sk-container-id-1 div.sk-label input.sk-toggleable__control:checked~label.sk-toggleable__label {background-color: #d4ebff;}#sk-container-id-1 input.sk-hidden--visually {border: 0;clip: rect(1px 1px 1px 1px);clip: rect(1px, 1px, 1px, 1px);height: 1px;margin: -1px;overflow: hidden;padding: 0;position: absolute;width: 1px;}#sk-container-id-1 div.sk-estimator {font-family: monospace;background-color: #f0f8ff;border: 1px dotted black;border-radius: 0.25em;box-sizing: border-box;margin-bottom: 0.5em;}#sk-container-id-1 div.sk-estimator:hover {background-color: #d4ebff;}#sk-container-id-1 div.sk-parallel-item::after {content: \"\";width: 100%;border-bottom: 1px solid gray;flex-grow: 1;}#sk-container-id-1 div.sk-label:hover label.sk-toggleable__label {background-color: #d4ebff;}#sk-container-id-1 div.sk-serial::before {content: \"\";position: absolute;border-left: 1px solid gray;box-sizing: border-box;top: 0;bottom: 0;left: 50%;z-index: 0;}#sk-container-id-1 div.sk-serial {display: flex;flex-direction: column;align-items: center;background-color: white;padding-right: 0.2em;padding-left: 0.2em;position: relative;}#sk-container-id-1 div.sk-item {position: relative;z-index: 1;}#sk-container-id-1 div.sk-parallel {display: flex;align-items: stretch;justify-content: center;background-color: white;position: relative;}#sk-container-id-1 div.sk-item::before, #sk-container-id-1 div.sk-parallel-item::before {content: \"\";position: absolute;border-left: 1px solid gray;box-sizing: border-box;top: 0;bottom: 0;left: 50%;z-index: -1;}#sk-container-id-1 div.sk-parallel-item {display: flex;flex-direction: column;z-index: 1;position: relative;background-color: white;}#sk-container-id-1 div.sk-parallel-item:first-child::after {align-self: flex-end;width: 50%;}#sk-container-id-1 div.sk-parallel-item:last-child::after {align-self: flex-start;width: 50%;}#sk-container-id-1 div.sk-parallel-item:only-child::after {width: 0;}#sk-container-id-1 div.sk-dashed-wrapped {border: 1px dashed gray;margin: 0 0.4em 0.5em 0.4em;box-sizing: border-box;padding-bottom: 0.4em;background-color: white;}#sk-container-id-1 div.sk-label label {font-family: monospace;font-weight: bold;display: inline-block;line-height: 1.2em;}#sk-container-id-1 div.sk-label-container {text-align: center;}#sk-container-id-1 div.sk-container {/* jupyter's `normalize.less` sets `[hidden] { display: none; }` but bootstrap.min.css set `[hidden] { display: none !important; }` so we also need the `!important` here to be able to override the default hidden behavior on the sphinx rendered scikit-learn.org. See: https://github.com/scikit-learn/scikit-learn/issues/21755 */display: inline-block !important;position: relative;}#sk-container-id-1 div.sk-text-repr-fallback {display: none;}</style><div id=\"sk-container-id-1\" class=\"sk-top-container\"><div class=\"sk-text-repr-fallback\"><pre>DecisionTreeClassifier(random_state=500)</pre><b>In a Jupyter environment, please rerun this cell to show the HTML representation or trust the notebook. <br />On GitHub, the HTML representation is unable to render, please try loading this page with nbviewer.org.</b></div><div class=\"sk-container\" hidden><div class=\"sk-item\"><div class=\"sk-estimator sk-toggleable\"><input class=\"sk-toggleable__control sk-hidden--visually\" id=\"sk-estimator-id-1\" type=\"checkbox\" checked><label for=\"sk-estimator-id-1\" class=\"sk-toggleable__label sk-toggleable__label-arrow\">DecisionTreeClassifier</label><div class=\"sk-toggleable__content\"><pre>DecisionTreeClassifier(random_state=500)</pre></div></div></div></div></div>"
      ],
      "text/plain": [
       "DecisionTreeClassifier(random_state=500)"
      ]
     },
     "execution_count": 30,
     "metadata": {},
     "output_type": "execute_result"
    }
   ],
   "source": [
    "xtrain, xtest, ytrain, ytest = train_test_split(atr_data, cls_data, test_size=0.2, random_state=500)\n",
    "tree_data = DecisionTreeClassifier(random_state=500)\n",
    "tree_data.fit(xtrain, ytrain)"
   ]
  },
  {
   "cell_type": "code",
   "execution_count": 35,
   "metadata": {},
   "outputs": [
    {
     "name": "stdout",
     "output_type": "stream",
     "text": [
      "Nilai akurasi pada data testing 1.0\n"
     ]
    }
   ],
   "source": [
    "print(\"Nilai akurasi pada data testing\", tree_data.score(xtest, ytest))"
   ]
  },
  {
   "cell_type": "code",
   "execution_count": 38,
   "metadata": {},
   "outputs": [],
   "source": [
    "from sklearn.tree import export_graphviz\n",
    "export_graphviz(tree_data, out_file=\"tree_stroke.dot\", class_names=[\"larutan a & b dimasukkan\", \"larutan ph up dimasukkan\", \"larutan ph down dimasukkan\", \"larutan a, b, & ph down dimasukkan\", \"larutan a, b, & ph up dimasukkan\"], feature_names=atr_data.columns,\n",
    "impurity=False, filled=True)"
   ]
  },
  {
   "cell_type": "code",
   "execution_count": 39,
   "metadata": {},
   "outputs": [
    {
     "data": {
      "image/svg+xml": "<?xml version=\"1.0\" encoding=\"UTF-8\" standalone=\"no\"?>\n<!DOCTYPE svg PUBLIC \"-//W3C//DTD SVG 1.1//EN\"\n \"http://www.w3.org/Graphics/SVG/1.1/DTD/svg11.dtd\">\n<!-- Generated by graphviz version 2.43.0 (0)\n -->\n<!-- Title: Tree Pages: 1 -->\n<svg width=\"1224pt\" height=\"373pt\"\n viewBox=\"0.00 0.00 1223.50 373.00\" xmlns=\"http://www.w3.org/2000/svg\" xmlns:xlink=\"http://www.w3.org/1999/xlink\">\n<g id=\"graph0\" class=\"graph\" transform=\"scale(1 1) rotate(0) translate(4 369)\">\n<title>Tree</title>\n<polygon fill=\"white\" stroke=\"transparent\" points=\"-4,4 -4,-369 1219.5,-369 1219.5,4 -4,4\"/>\n<!-- 0 -->\n<g id=\"node1\" class=\"node\">\n<title>0</title>\n<polygon fill=\"#f4fefc\" stroke=\"black\" points=\"733,-365 458,-365 458,-297 733,-297 733,-365\"/>\n<text text-anchor=\"middle\" x=\"595.5\" y=\"-349.8\" font-family=\"Helvetica,sans-Serif\" font-size=\"14.00\">ph &lt;= 5.5</text>\n<text text-anchor=\"middle\" x=\"595.5\" y=\"-334.8\" font-family=\"Helvetica,sans-Serif\" font-size=\"14.00\">samples = 23</text>\n<text text-anchor=\"middle\" x=\"595.5\" y=\"-319.8\" font-family=\"Helvetica,sans-Serif\" font-size=\"14.00\">value = [4, 4, 6, 4, 5]</text>\n<text text-anchor=\"middle\" x=\"595.5\" y=\"-304.8\" font-family=\"Helvetica,sans-Serif\" font-size=\"14.00\">class = larutan ph down dimasukkan</text>\n</g>\n<!-- 1 -->\n<g id=\"node2\" class=\"node\">\n<title>1</title>\n<polygon fill=\"#defbf5\" stroke=\"black\" points=\"584,-261 309,-261 309,-193 584,-193 584,-261\"/>\n<text text-anchor=\"middle\" x=\"446.5\" y=\"-245.8\" font-family=\"Helvetica,sans-Serif\" font-size=\"14.00\">nutrisi &lt;= 9.5</text>\n<text text-anchor=\"middle\" x=\"446.5\" y=\"-230.8\" font-family=\"Helvetica,sans-Serif\" font-size=\"14.00\">samples = 11</text>\n<text text-anchor=\"middle\" x=\"446.5\" y=\"-215.8\" font-family=\"Helvetica,sans-Serif\" font-size=\"14.00\">value = [0, 0, 6, 0, 5]</text>\n<text text-anchor=\"middle\" x=\"446.5\" y=\"-200.8\" font-family=\"Helvetica,sans-Serif\" font-size=\"14.00\">class = larutan ph down dimasukkan</text>\n</g>\n<!-- 0&#45;&gt;1 -->\n<g id=\"edge1\" class=\"edge\">\n<title>0&#45;&gt;1</title>\n<path fill=\"none\" stroke=\"black\" d=\"M547.12,-296.88C533.13,-287.3 517.73,-276.76 503.27,-266.86\"/>\n<polygon fill=\"black\" stroke=\"black\" points=\"505.12,-263.89 494.89,-261.12 501.16,-269.66 505.12,-263.89\"/>\n<text text-anchor=\"middle\" x=\"499.49\" y=\"-282\" font-family=\"Helvetica,sans-Serif\" font-size=\"14.00\">True</text>\n</g>\n<!-- 4 -->\n<g id=\"node5\" class=\"node\">\n<title>4</title>\n<polygon fill=\"#ffffff\" stroke=\"black\" points=\"871,-261 618,-261 618,-193 871,-193 871,-261\"/>\n<text text-anchor=\"middle\" x=\"744.5\" y=\"-245.8\" font-family=\"Helvetica,sans-Serif\" font-size=\"14.00\">nutrisi &lt;= 9.0</text>\n<text text-anchor=\"middle\" x=\"744.5\" y=\"-230.8\" font-family=\"Helvetica,sans-Serif\" font-size=\"14.00\">samples = 12</text>\n<text text-anchor=\"middle\" x=\"744.5\" y=\"-215.8\" font-family=\"Helvetica,sans-Serif\" font-size=\"14.00\">value = [4, 4, 0, 4, 0]</text>\n<text text-anchor=\"middle\" x=\"744.5\" y=\"-200.8\" font-family=\"Helvetica,sans-Serif\" font-size=\"14.00\">class = larutan a &amp; b dimasukkan</text>\n</g>\n<!-- 0&#45;&gt;4 -->\n<g id=\"edge4\" class=\"edge\">\n<title>0&#45;&gt;4</title>\n<path fill=\"none\" stroke=\"black\" d=\"M643.88,-296.88C657.87,-287.3 673.27,-276.76 687.73,-266.86\"/>\n<polygon fill=\"black\" stroke=\"black\" points=\"689.84,-269.66 696.11,-261.12 685.88,-263.89 689.84,-269.66\"/>\n<text text-anchor=\"middle\" x=\"691.51\" y=\"-282\" font-family=\"Helvetica,sans-Serif\" font-size=\"14.00\">False</text>\n</g>\n<!-- 2 -->\n<g id=\"node3\" class=\"node\">\n<title>2</title>\n<polygon fill=\"#39e5c5\" stroke=\"black\" points=\"275,-149.5 0,-149.5 0,-96.5 275,-96.5 275,-149.5\"/>\n<text text-anchor=\"middle\" x=\"137.5\" y=\"-134.3\" font-family=\"Helvetica,sans-Serif\" font-size=\"14.00\">samples = 6</text>\n<text text-anchor=\"middle\" x=\"137.5\" y=\"-119.3\" font-family=\"Helvetica,sans-Serif\" font-size=\"14.00\">value = [0, 0, 6, 0, 0]</text>\n<text text-anchor=\"middle\" x=\"137.5\" y=\"-104.3\" font-family=\"Helvetica,sans-Serif\" font-size=\"14.00\">class = larutan ph down dimasukkan</text>\n</g>\n<!-- 1&#45;&gt;2 -->\n<g id=\"edge2\" class=\"edge\">\n<title>1&#45;&gt;2</title>\n<path fill=\"none\" stroke=\"black\" d=\"M346.18,-192.88C307.03,-179.96 262.57,-165.28 224.77,-152.81\"/>\n<polygon fill=\"black\" stroke=\"black\" points=\"225.4,-149.33 214.81,-149.52 223.21,-155.98 225.4,-149.33\"/>\n</g>\n<!-- 3 -->\n<g id=\"node4\" class=\"node\">\n<title>3</title>\n<polygon fill=\"#e539c0\" stroke=\"black\" points=\"600,-149.5 293,-149.5 293,-96.5 600,-96.5 600,-149.5\"/>\n<text text-anchor=\"middle\" x=\"446.5\" y=\"-134.3\" font-family=\"Helvetica,sans-Serif\" font-size=\"14.00\">samples = 5</text>\n<text text-anchor=\"middle\" x=\"446.5\" y=\"-119.3\" font-family=\"Helvetica,sans-Serif\" font-size=\"14.00\">value = [0, 0, 0, 0, 5]</text>\n<text text-anchor=\"middle\" x=\"446.5\" y=\"-104.3\" font-family=\"Helvetica,sans-Serif\" font-size=\"14.00\">class = larutan a, b, &amp; ph up dimasukkan</text>\n</g>\n<!-- 1&#45;&gt;3 -->\n<g id=\"edge3\" class=\"edge\">\n<title>1&#45;&gt;3</title>\n<path fill=\"none\" stroke=\"black\" d=\"M446.5,-192.88C446.5,-182.33 446.5,-170.6 446.5,-159.85\"/>\n<polygon fill=\"black\" stroke=\"black\" points=\"450,-159.52 446.5,-149.52 443,-159.52 450,-159.52\"/>\n</g>\n<!-- 5 -->\n<g id=\"node6\" class=\"node\">\n<title>5</title>\n<polygon fill=\"#ffffff\" stroke=\"black\" points=\"871,-157 618,-157 618,-89 871,-89 871,-157\"/>\n<text text-anchor=\"middle\" x=\"744.5\" y=\"-141.8\" font-family=\"Helvetica,sans-Serif\" font-size=\"14.00\">ph &lt;= 7.0</text>\n<text text-anchor=\"middle\" x=\"744.5\" y=\"-126.8\" font-family=\"Helvetica,sans-Serif\" font-size=\"14.00\">samples = 8</text>\n<text text-anchor=\"middle\" x=\"744.5\" y=\"-111.8\" font-family=\"Helvetica,sans-Serif\" font-size=\"14.00\">value = [4, 4, 0, 0, 0]</text>\n<text text-anchor=\"middle\" x=\"744.5\" y=\"-96.8\" font-family=\"Helvetica,sans-Serif\" font-size=\"14.00\">class = larutan a &amp; b dimasukkan</text>\n</g>\n<!-- 4&#45;&gt;5 -->\n<g id=\"edge5\" class=\"edge\">\n<title>4&#45;&gt;5</title>\n<path fill=\"none\" stroke=\"black\" d=\"M744.5,-192.88C744.5,-184.78 744.5,-175.98 744.5,-167.47\"/>\n<polygon fill=\"black\" stroke=\"black\" points=\"748,-167.3 744.5,-157.3 741,-167.3 748,-167.3\"/>\n</g>\n<!-- 8 -->\n<g id=\"node9\" class=\"node\">\n<title>8</title>\n<polygon fill=\"#3c39e5\" stroke=\"black\" points=\"1215.5,-149.5 889.5,-149.5 889.5,-96.5 1215.5,-96.5 1215.5,-149.5\"/>\n<text text-anchor=\"middle\" x=\"1052.5\" y=\"-134.3\" font-family=\"Helvetica,sans-Serif\" font-size=\"14.00\">samples = 4</text>\n<text text-anchor=\"middle\" x=\"1052.5\" y=\"-119.3\" font-family=\"Helvetica,sans-Serif\" font-size=\"14.00\">value = [0, 0, 0, 4, 0]</text>\n<text text-anchor=\"middle\" x=\"1052.5\" y=\"-104.3\" font-family=\"Helvetica,sans-Serif\" font-size=\"14.00\">class = larutan a, b, &amp; ph down dimasukkan</text>\n</g>\n<!-- 4&#45;&gt;8 -->\n<g id=\"edge8\" class=\"edge\">\n<title>4&#45;&gt;8</title>\n<path fill=\"none\" stroke=\"black\" d=\"M844.5,-192.88C883.52,-179.96 927.84,-165.28 965.51,-152.81\"/>\n<polygon fill=\"black\" stroke=\"black\" points=\"967.05,-155.99 975.44,-149.52 964.85,-149.34 967.05,-155.99\"/>\n</g>\n<!-- 6 -->\n<g id=\"node7\" class=\"node\">\n<title>6</title>\n<polygon fill=\"#e58139\" stroke=\"black\" points=\"734,-53 481,-53 481,0 734,0 734,-53\"/>\n<text text-anchor=\"middle\" x=\"607.5\" y=\"-37.8\" font-family=\"Helvetica,sans-Serif\" font-size=\"14.00\">samples = 4</text>\n<text text-anchor=\"middle\" x=\"607.5\" y=\"-22.8\" font-family=\"Helvetica,sans-Serif\" font-size=\"14.00\">value = [4, 0, 0, 0, 0]</text>\n<text text-anchor=\"middle\" x=\"607.5\" y=\"-7.8\" font-family=\"Helvetica,sans-Serif\" font-size=\"14.00\">class = larutan a &amp; b dimasukkan</text>\n</g>\n<!-- 5&#45;&gt;6 -->\n<g id=\"edge6\" class=\"edge\">\n<title>5&#45;&gt;6</title>\n<path fill=\"none\" stroke=\"black\" d=\"M696.58,-88.95C682.53,-79.25 667.19,-68.68 653.27,-59.07\"/>\n<polygon fill=\"black\" stroke=\"black\" points=\"655.03,-56.03 644.81,-53.24 651.06,-61.8 655.03,-56.03\"/>\n</g>\n<!-- 7 -->\n<g id=\"node8\" class=\"node\">\n<title>7</title>\n<polygon fill=\"#7be539\" stroke=\"black\" points=\"1008.5,-53 752.5,-53 752.5,0 1008.5,0 1008.5,-53\"/>\n<text text-anchor=\"middle\" x=\"880.5\" y=\"-37.8\" font-family=\"Helvetica,sans-Serif\" font-size=\"14.00\">samples = 4</text>\n<text text-anchor=\"middle\" x=\"880.5\" y=\"-22.8\" font-family=\"Helvetica,sans-Serif\" font-size=\"14.00\">value = [0, 4, 0, 0, 0]</text>\n<text text-anchor=\"middle\" x=\"880.5\" y=\"-7.8\" font-family=\"Helvetica,sans-Serif\" font-size=\"14.00\">class = larutan ph up dimasukkan</text>\n</g>\n<!-- 5&#45;&gt;7 -->\n<g id=\"edge7\" class=\"edge\">\n<title>5&#45;&gt;7</title>\n<path fill=\"none\" stroke=\"black\" d=\"M792.07,-88.95C806.02,-79.25 821.24,-68.68 835.06,-59.07\"/>\n<polygon fill=\"black\" stroke=\"black\" points=\"837.25,-61.82 843.46,-53.24 833.25,-56.07 837.25,-61.82\"/>\n</g>\n</g>\n</svg>\n",
      "text/plain": [
       "<graphviz.sources.Source at 0x7faf9c99c2e0>"
      ]
     },
     "execution_count": 39,
     "metadata": {},
     "output_type": "execute_result"
    }
   ],
   "source": [
    "import graphviz\n",
    "with open(\"tree_stroke.dot\") as fig:\n",
    "    dot_graph = fig.read()\n",
    "graphviz.Source(dot_graph)"
   ]
  }
 ],
 "metadata": {
  "kernelspec": {
   "display_name": "Python 3.8.10 64-bit",
   "language": "python",
   "name": "python3"
  },
  "language_info": {
   "codemirror_mode": {
    "name": "ipython",
    "version": 3
   },
   "file_extension": ".py",
   "mimetype": "text/x-python",
   "name": "python",
   "nbconvert_exporter": "python",
   "pygments_lexer": "ipython3",
   "version": "3.8.10"
  },
  "orig_nbformat": 4,
  "vscode": {
   "interpreter": {
    "hash": "767d51c1340bd893661ea55ea3124f6de3c7a262a8b4abca0554b478b1e2ff90"
   }
  }
 },
 "nbformat": 4,
 "nbformat_minor": 2
}
